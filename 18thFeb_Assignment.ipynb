{
 "cells": [
  {
   "cell_type": "code",
   "execution_count": 1,
   "id": "6bd839b4-e006-4bd8-a08b-e2110ef3d38c",
   "metadata": {},
   "outputs": [],
   "source": [
    "#Q1. What is an API? Give an example, where an API is used in real life."
   ]
  },
  {
   "cell_type": "code",
   "execution_count": 2,
   "id": "09bf9ac2-e1d4-4392-ae5b-44e0b2ce5883",
   "metadata": {},
   "outputs": [],
   "source": [
    "#Ans: An application programming interface (API) is the interface that allows two independent software components to exchange information.\n",
    "\n",
    "#Example: Private APIs are used by financial organizations such as banks to track and manage checking accounts, credit cards, and other accounts. Banks and UPI applications use APIs to connect with each other."
   ]
  },
  {
   "cell_type": "code",
   "execution_count": 3,
   "id": "63ae258d-c8b7-434f-aed7-a8135850c6f1",
   "metadata": {},
   "outputs": [],
   "source": [
    "#Q2. Give advantages and disadvantages of using API."
   ]
  },
  {
   "cell_type": "code",
   "execution_count": 4,
   "id": "03d71c06-d127-456a-bd60-6f5154bc803d",
   "metadata": {},
   "outputs": [
    {
     "data": {
      "text/plain": [
       "'Advantages:\\n- Increased Visibility and Traffic\\n- Seamless Integration\\n- Increased Efficiency\\n- Easier Maintenance\\n- Reduced Costs\\n- Improved Customer Experience\\n\\nDisadvantages:\\n- Increased Complexity\\n- Limited Functionality\\n- Dependency on Third Party Services\\n- Security and Privacy Risks\\n'"
      ]
     },
     "execution_count": 4,
     "metadata": {},
     "output_type": "execute_result"
    }
   ],
   "source": [
    "'''Advantages:\n",
    "- Increased Visibility and Traffic\n",
    "- Seamless Integration\n",
    "- Increased Efficiency\n",
    "- Easier Maintenance\n",
    "- Reduced Costs\n",
    "- Improved Customer Experience\n",
    "\n",
    "Disadvantages:\n",
    "- Increased Complexity\n",
    "- Limited Functionality\n",
    "- Dependency on Third Party Services\n",
    "- Security and Privacy Risks\n",
    "'''"
   ]
  },
  {
   "cell_type": "code",
   "execution_count": 5,
   "id": "04893fbc-59f0-4558-9ef4-61ca0fc7bbb0",
   "metadata": {},
   "outputs": [],
   "source": [
    "#Q3. What is a Web API? Differentiate between API and Web API."
   ]
  },
  {
   "cell_type": "code",
   "execution_count": 8,
   "id": "8c894db7-7108-41a3-a868-cb0460105b1b",
   "metadata": {},
   "outputs": [],
   "source": [
    "# A Web API, also known as a web service, is an API that is accessed over the internet using HTTP(Hypertext Transfer Protocol). It is a set of protocols and standards for building web-based applications that can be accessed by other software applications over the internet\n",
    "\n",
    "\n",
    "# Communication protocol: APIs can use a variety of communication protocols, including TCP/IP, RPC, and SOAP. In contrast, Web APIs use HTTP as the communication protocol.\n",
    "\n",
    "# Data format: APIs can use a variety of data formats, including XML, JSON, and CSV. Web APIs typically use JSON or XML as the data format.\n",
    "\n",
    "# Access method: APIs can be accessed through various methods, including libraries, SDKs, and command-line tools. Web APIs are accessed through HTTP requests using URLs and query parameters.\n",
    "\n",
    "# Platform compatibility: APIs can be built for various platforms and technologies, including desktop software, mobile apps, and IoT devices. Web APIs are specifically designed for web-based applications that can be accessed from any device with an internet connection."
   ]
  },
  {
   "cell_type": "code",
   "execution_count": 9,
   "id": "351a9286-87f1-42a4-bb02-a3cd69816413",
   "metadata": {},
   "outputs": [],
   "source": [
    "#Q4. Explain REST and SOAP Architecture. Mention shortcomings of SOAP."
   ]
  },
  {
   "cell_type": "code",
   "execution_count": 12,
   "id": "b997d13b-a5ae-488d-9a04-1318761de015",
   "metadata": {},
   "outputs": [],
   "source": [
    "# REST Architecture:\n",
    "# REST is a simple, lightweight, and flexible architecture that uses HTTP requests to perform CRUD(Create, Read, Update, Delete) operations on resources. It is designed to be scalable, cacheable, and stateless, and is widely used for building web-based APIs. RESTful APIs are simple and easy to use, and can be accessed from any programming language or platform that supports HTTP requests.\n",
    "\n",
    "# SOAP Architecture:\n",
    "# SOAP is a more complex architecture that uses XML-based messaging protocols to exchange data between client and server applications. SOAP is a standardized protocol that provides a common language for different systems to communicate with each other. SOAP-based web services can provide more advanced features such as security, transaction management, and error handling, but are generally more complex to implement and use.\n",
    "\n",
    "# Shortcomings of SOAP\n",
    "# Complexity \n",
    "# Performance\n",
    "# Limited platform compatibility\n",
    "# Scalability \n",
    "# Versioning"
   ]
  },
  {
   "cell_type": "code",
   "execution_count": 11,
   "id": "d6e51388-f1a7-4f9f-8718-6dce7b5166cb",
   "metadata": {},
   "outputs": [],
   "source": [
    "#Q5. Differentiate between REST and SOAP."
   ]
  },
  {
   "cell_type": "code",
   "execution_count": 13,
   "id": "39f300f2-1f5f-4cb2-b30c-5ab5a8bacc41",
   "metadata": {},
   "outputs": [],
   "source": [
    "# REST Architecture:\n",
    "# REST is a simple, lightweight, and flexible architecture that uses HTTP requests to perform CRUD(Create, Read, Update, Delete) operations on resources. It is designed to be scalable, cacheable, and stateless, and is widely used for building web-based APIs. RESTful APIs are simple and easy to use, and can be accessed from any programming language or platform that supports HTTP requests.\n",
    "\n",
    "# SOAP Architecture:\n",
    "# SOAP is a more complex architecture that uses XML-based messaging protocols to exchange data between client and server applications. SOAP is a standardized protocol that provides a common language for different systems to communicate with each other. SOAP-based web services can provide more advanced features such as security, transaction management, and error handling, but are generally more complex to implement and use."
   ]
  },
  {
   "cell_type": "code",
   "execution_count": null,
   "id": "6fa48a37-743b-470c-811b-1f28a812c06d",
   "metadata": {},
   "outputs": [],
   "source": []
  }
 ],
 "metadata": {
  "kernelspec": {
   "display_name": "Python 3 (ipykernel)",
   "language": "python",
   "name": "python3"
  },
  "language_info": {
   "codemirror_mode": {
    "name": "ipython",
    "version": 3
   },
   "file_extension": ".py",
   "mimetype": "text/x-python",
   "name": "python",
   "nbconvert_exporter": "python",
   "pygments_lexer": "ipython3",
   "version": "3.10.8"
  }
 },
 "nbformat": 4,
 "nbformat_minor": 5
}
