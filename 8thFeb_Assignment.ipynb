{
 "cells": [
  {
   "cell_type": "code",
   "execution_count": 1,
   "id": "ac37fc47-8c0c-46d6-82f6-0c94a0462d0d",
   "metadata": {},
   "outputs": [],
   "source": [
    "#Q1. What is Abstraction in OOps? Explain with an example."
   ]
  },
  {
   "cell_type": "code",
   "execution_count": 6,
   "id": "20063539-d286-4353-b5a0-d9770e232212",
   "metadata": {},
   "outputs": [],
   "source": [
    "#Ans: Abstraction shows only the relevant attributes of objects and hides the unnecessary details. For example, when we are driving a car, we are only concerned about driving the car like start/stop the car, accelerate/ break, etc. We are not able to see the internal workings of the car."
   ]
  },
  {
   "cell_type": "code",
   "execution_count": 1,
   "id": "126692e3-a449-450e-b838-64632dd3afd4",
   "metadata": {},
   "outputs": [],
   "source": [
    "#example:\n",
    "\n",
    "import abc\n",
    "class phone:\n",
    "    \n",
    "    @abc.abstractmethod\n",
    "    def memory(self):\n",
    "        pass\n",
    "    @abc.abstractmethod\n",
    "    def processor(self):\n",
    "        pass\n",
    "    @abc.abstractmethod\n",
    "    def camera(self):\n",
    "        pass\n",
    "    @abc.abstractmethod\n",
    "    def network(self):\n",
    "        pass"
   ]
  },
  {
   "cell_type": "code",
   "execution_count": 2,
   "id": "fce1bf74-78fc-4bc7-b31a-d20098503f63",
   "metadata": {},
   "outputs": [],
   "source": [
    "#Q2. Differentiate between Abstraction and Encapsulation. Explain with an example."
   ]
  },
  {
   "cell_type": "code",
   "execution_count": 1,
   "id": "91d38266-fd34-45a2-9a71-163f709ab6cf",
   "metadata": {},
   "outputs": [],
   "source": [
    "#Ans: Abstraction is a method of showing only the relevant parts and hiding unnecessary details. For example, instead of writing a function that multiplies two numbers, we can write a function “multiply” and use it to multiply any number with any number. Encapsulation is a way of hiding the complexity of something and exposing only the parts you wish to expose. For example, if you have a class that has one or more private fields that you use to store the data, then you are in encapsulation."
   ]
  },
  {
   "cell_type": "code",
   "execution_count": 3,
   "id": "19db1349-5aa8-45cf-8fd4-e63e645bcaf7",
   "metadata": {},
   "outputs": [],
   "source": [
    "#Q3. What is abc module in python? Why is it used?"
   ]
  },
  {
   "cell_type": "code",
   "execution_count": 8,
   "id": "adf9fc27-327c-480f-8ef9-6d611dd01d48",
   "metadata": {},
   "outputs": [],
   "source": [
    "#Ans: abc module is the pre existing library function that is used for abstraction. It provides the infrastructure for defining custom abstract base classes."
   ]
  },
  {
   "cell_type": "code",
   "execution_count": 4,
   "id": "f9a8421c-3a44-4c47-8bbd-665f17d9f459",
   "metadata": {},
   "outputs": [],
   "source": [
    "#Q4. How can we achieve data abstraction?"
   ]
  },
  {
   "cell_type": "code",
   "execution_count": 10,
   "id": "71ba58d9-8c15-4d54-8bee-b3226b80920f",
   "metadata": {},
   "outputs": [],
   "source": [
    "#Ans: Data Abstraction in Python can be achieved through creating abstract classes and inheriting them later."
   ]
  },
  {
   "cell_type": "code",
   "execution_count": 5,
   "id": "abcb8de6-2bd4-4401-b4fc-d924e43bc5d4",
   "metadata": {},
   "outputs": [],
   "source": [
    "#Q5. Can we create an instance of an abstract class? Explain your answer."
   ]
  },
  {
   "cell_type": "code",
   "execution_count": 11,
   "id": "38be58f7-0bff-44f3-9c68-cb96b8e5e13a",
   "metadata": {},
   "outputs": [],
   "source": [
    "#Abstract classes cannot be instantiated, but they can be subclassed. When an abstract class is subclassed, the subclass usually provides implementations for all of the abstract methods in its parent class."
   ]
  },
  {
   "cell_type": "code",
   "execution_count": null,
   "id": "99ac11a3-5981-4328-824b-80a7fad78d8d",
   "metadata": {},
   "outputs": [],
   "source": []
  }
 ],
 "metadata": {
  "kernelspec": {
   "display_name": "Python 3 (ipykernel)",
   "language": "python",
   "name": "python3"
  },
  "language_info": {
   "codemirror_mode": {
    "name": "ipython",
    "version": 3
   },
   "file_extension": ".py",
   "mimetype": "text/x-python",
   "name": "python",
   "nbconvert_exporter": "python",
   "pygments_lexer": "ipython3",
   "version": "3.10.8"
  }
 },
 "nbformat": 4,
 "nbformat_minor": 5
}
