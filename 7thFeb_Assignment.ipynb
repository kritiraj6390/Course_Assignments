{
 "cells": [
  {
   "cell_type": "code",
   "execution_count": null,
   "id": "05050d8e-8247-49fe-949e-8ebe5dd6eff7",
   "metadata": {},
   "outputs": [],
   "source": [
    "#Q1. You are writing code for a company. The requirement of the company is that you create a python\n",
    "#function that will check whether the password entered by the user is correct or not. The function should\n",
    "#take the password as input and return the string “Valid Password” if the entered password follows the\n",
    "#below-given password guidelines else it should return “Invalid Password”.\n",
    "\n",
    "#Note: 1. The Password should contain at least two uppercase letters and at least two lowercase letters.\n",
    "#2. The Password should contain at least a number and three special characters.\n",
    "#3. The length of the password should be 10 characters long."
   ]
  },
  {
   "cell_type": "code",
   "execution_count": 6,
   "id": "a14c1cdf-113c-45dc-a2ef-c6d1c2420c29",
   "metadata": {},
   "outputs": [],
   "source": [
    "\n",
    "def passw():\n",
    "    password=input(\"Enter Password:\")\n",
    "    valid = True\n",
    "    up = 0\n",
    "    low = 0\n",
    "    num = 0\n",
    "    spl = 0\n",
    "    length = len(password)+1\n",
    "    for i in password:\n",
    "        if i.isupper():\n",
    "            up+=1\n",
    "        elif i.islower():\n",
    "            low+=1\n",
    "        elif i.isnumeric():\n",
    "            num = num+1\n",
    "        elif not (i.isalpha() or i.isdigit() or i == ' '):\n",
    "            spl=spl+1\n",
    "    if up>=2 and low>=2 and num>=1 and spl>=3 and length>=10:\n",
    "        print(\"Valid Password\")\n",
    "    else:\n",
    "        print(\"Invalid Password\")"
   ]
  },
  {
   "cell_type": "code",
   "execution_count": 7,
   "id": "f46223f9-7536-47ca-9b4b-35ec9130c502",
   "metadata": {},
   "outputs": [
    {
     "name": "stdin",
     "output_type": "stream",
     "text": [
      "Enter Password: KritI@#!123\n"
     ]
    },
    {
     "name": "stdout",
     "output_type": "stream",
     "text": [
      "Valid Password\n"
     ]
    }
   ],
   "source": [
    "passw()"
   ]
  },
  {
   "cell_type": "code",
   "execution_count": 8,
   "id": "becce445-1c20-450a-a99b-69e4fcb70d4d",
   "metadata": {},
   "outputs": [
    {
     "name": "stdin",
     "output_type": "stream",
     "text": [
      "Enter Password: Kriti@123\n"
     ]
    },
    {
     "name": "stdout",
     "output_type": "stream",
     "text": [
      "Invalid Password\n"
     ]
    }
   ],
   "source": [
    "passw()"
   ]
  },
  {
   "cell_type": "code",
   "execution_count": 8,
   "id": "1d535c9c-dfb3-44e8-9c1d-e20d9472534f",
   "metadata": {},
   "outputs": [
    {
     "data": {
      "text/plain": [
       "'Q2. Solve the below-given questions using at least one of the following:\\n1. Lambda function\\n2. Filter function\\n3. Map function\\n4. List Comprehension'"
      ]
     },
     "execution_count": 8,
     "metadata": {},
     "output_type": "execute_result"
    }
   ],
   "source": [
    "\"\"\"Q2. Solve the below-given questions using at least one of the following:\n",
    "1. Lambda function\n",
    "2. Filter function\n",
    "3. Map function\n",
    "4. List Comprehension\"\"\""
   ]
  },
  {
   "cell_type": "code",
   "execution_count": 10,
   "id": "897417b7-276e-40b3-bc33-244a5ea6f2f4",
   "metadata": {},
   "outputs": [],
   "source": [
    "# Check if the string starts with a particular letter."
   ]
  },
  {
   "cell_type": "code",
   "execution_count": 4,
   "id": "4b51acb2-51e5-4375-926f-6263b07a718f",
   "metadata": {},
   "outputs": [
    {
     "name": "stdin",
     "output_type": "stream",
     "text": [
      "Enter string: Shashank\n",
      "Enter starting letter: S\n"
     ]
    },
    {
     "data": {
      "text/plain": [
       "True"
      ]
     },
     "execution_count": 4,
     "metadata": {},
     "output_type": "execute_result"
    }
   ],
   "source": [
    "string=input(\"Enter string:\")\n",
    "starting_letter=input(\"Enter starting letter:\")\n",
    "bool(filter(lambda string, starting_letter: string[0] == starting_letter, string))"
   ]
  },
  {
   "cell_type": "code",
   "execution_count": 6,
   "id": "6757bbbe-936e-42fa-bf21-31929d0c37be",
   "metadata": {},
   "outputs": [],
   "source": [
    "# Check if the string is numeric."
   ]
  },
  {
   "cell_type": "code",
   "execution_count": 5,
   "id": "bf11b6b7-5e21-4c59-a881-318cd7a65673",
   "metadata": {},
   "outputs": [
    {
     "name": "stdin",
     "output_type": "stream",
     "text": [
      "Enter String:  greg\n"
     ]
    },
    {
     "name": "stdout",
     "output_type": "stream",
     "text": [
      "False\n"
     ]
    }
   ],
   "source": [
    "string = input(\"Enter String: \")\n",
    "is_numeric = lambda string: True if string.isnumeric() else False\n",
    "print(is_numeric(string))"
   ]
  },
  {
   "cell_type": "code",
   "execution_count": 7,
   "id": "97e91a32-b573-465e-828f-2c5f7d2ec432",
   "metadata": {},
   "outputs": [],
   "source": [
    "# Sort a list of tuples having fruit names and their quantity."
   ]
  },
  {
   "cell_type": "code",
   "execution_count": 2,
   "id": "94aca097-cac4-47cd-9f53-5b98e5168e8a",
   "metadata": {},
   "outputs": [],
   "source": [
    "l = [(\"mango\",99),(\"orange\",80), (\"grapes\", 1000)]"
   ]
  },
  {
   "cell_type": "code",
   "execution_count": 8,
   "id": "60ff02ec-58e8-4e61-8bb0-f0eabdf55fdf",
   "metadata": {},
   "outputs": [],
   "source": [
    "l.sort(key=lambda x:x[1])"
   ]
  },
  {
   "cell_type": "code",
   "execution_count": 9,
   "id": "4ace3527-3a84-4032-be7e-f81805c7cfb4",
   "metadata": {},
   "outputs": [
    {
     "name": "stdout",
     "output_type": "stream",
     "text": [
      "[('orange', 80), ('mango', 99), ('grapes', 1000)]\n"
     ]
    }
   ],
   "source": [
    "print(l)"
   ]
  },
  {
   "cell_type": "code",
   "execution_count": 3,
   "id": "433be3b6-d734-4b72-8905-772fd7dfc3ae",
   "metadata": {},
   "outputs": [
    {
     "data": {
      "text/plain": [
       "[1, 4, 9, 16, 25, 36, 49, 64, 81, 100]"
      ]
     },
     "execution_count": 3,
     "metadata": {},
     "output_type": "execute_result"
    }
   ],
   "source": [
    "#Find the squares of numbers from 1 to 10\n",
    "l1=[1,2,3,4,5,6,7,8,9,10]\n",
    "sq=list(map(lambda x: x**2,l1))\n",
    "sq"
   ]
  },
  {
   "cell_type": "code",
   "execution_count": 7,
   "id": "3c287807-b9eb-491d-8486-8caea4487f65",
   "metadata": {},
   "outputs": [
    {
     "data": {
      "text/plain": [
       "[1.0,\n",
       " 1.2599210498948732,\n",
       " 1.4422495703074083,\n",
       " 1.5874010519681994,\n",
       " 1.7099759466766968,\n",
       " 1.8171205928321397,\n",
       " 1.912931182772389,\n",
       " 2.0,\n",
       " 2.080083823051904,\n",
       " 2.154434690031884]"
      ]
     },
     "execution_count": 7,
     "metadata": {},
     "output_type": "execute_result"
    }
   ],
   "source": [
    "# Find the cube root of numbers from 1 to 10\n",
    "import math\n",
    "l1=[1,2,3,4,5,6,7,8,9,10]\n",
    "cr = list(map(lambda x: math.pow(x,1/3),l1))\n",
    "cr"
   ]
  },
  {
   "cell_type": "code",
   "execution_count": 24,
   "id": "1fae63a3-d9c1-4678-afd9-3c8b1165e3a5",
   "metadata": {},
   "outputs": [
    {
     "name": "stdin",
     "output_type": "stream",
     "text": [
      "Enter number: 44\n"
     ]
    },
    {
     "name": "stdout",
     "output_type": "stream",
     "text": [
      "True\n"
     ]
    }
   ],
   "source": [
    "#Check if a given number is even\n",
    "\n",
    "n=int(input(\"Enter number:\"))\n",
    "answer=lambda n: \"True\" if n%2==0 else \"False\"\n",
    "print(answer(n))"
   ]
  },
  {
   "cell_type": "code",
   "execution_count": 26,
   "id": "2b056173-3ea1-4d64-beb8-623bdd892b1f",
   "metadata": {},
   "outputs": [
    {
     "name": "stdout",
     "output_type": "stream",
     "text": [
      "[1, 3, 5, 7, 9]\n"
     ]
    }
   ],
   "source": [
    "#Filter odd numbers from the given list.\n",
    "\n",
    "l = [1,2,3,4,5,6,7,8,9,10]\n",
    "odd = list(filter(lambda x: x%2!=0, l))\n",
    "print (odd)"
   ]
  },
  {
   "cell_type": "code",
   "execution_count": 30,
   "id": "1aff83ad-27cd-42db-a6c4-d419cc081aa2",
   "metadata": {},
   "outputs": [
    {
     "name": "stdout",
     "output_type": "stream",
     "text": [
      "[1, 2, 3, 4, 5, 6, 0]\n",
      "[-1, -2, -3, -4, -5]\n"
     ]
    }
   ],
   "source": [
    "#Sort a list of integers into positive and negative integers lists.\n",
    "\n",
    "l = [1,2,3,4,5,6,-1,-2,-3,-4,-5,0]\n",
    "l1 = []\n",
    "l2 = []\n",
    "sort = list(filter(lambda x: l1.append(x) if x>=0 else l2.append(x),l))\n",
    "print (l1)\n",
    "print(l2)"
   ]
  },
  {
   "cell_type": "code",
   "execution_count": null,
   "id": "bfadf6f9-a309-4832-a39d-9c81562193dd",
   "metadata": {},
   "outputs": [],
   "source": []
  }
 ],
 "metadata": {
  "kernelspec": {
   "display_name": "Python 3 (ipykernel)",
   "language": "python",
   "name": "python3"
  },
  "language_info": {
   "codemirror_mode": {
    "name": "ipython",
    "version": 3
   },
   "file_extension": ".py",
   "mimetype": "text/x-python",
   "name": "python",
   "nbconvert_exporter": "python",
   "pygments_lexer": "ipython3",
   "version": "3.10.8"
  }
 },
 "nbformat": 4,
 "nbformat_minor": 5
}
