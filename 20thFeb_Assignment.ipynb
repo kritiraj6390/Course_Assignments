{
 "cells": [
  {
   "cell_type": "code",
   "execution_count": 1,
   "id": "f157e662-2f48-43d4-af76-88c95677d50d",
   "metadata": {},
   "outputs": [],
   "source": [
    "#Q1. Explain GET and POST methods."
   ]
  },
  {
   "cell_type": "code",
   "execution_count": 2,
   "id": "7f08c158-1ea7-49d3-845b-4cc06ffdac38",
   "metadata": {},
   "outputs": [],
   "source": [
    "# GET and POST are two HTTP request methods that are commonly used to send data between a client and a server.\n",
    "\n",
    "#GET METHOD: \n",
    "# GET is a request method used by the client to retrieve data from the server.\n",
    "# When the client sends a GET request, it appends the data to the URL in the form of query string parameters.\n",
    "# GET requests can be cached and bookmarked, and are visible in the browser history, which makes them a good choice for retrieving data that does not change frequently.\n",
    "# GET requests should not be used for sending sensitive or large amounts of data, as the data is visible in the URL and can be intercepted and read by third parties.\n",
    "\n",
    "# POST:\n",
    "\n",
    "# POST is a request method used by the client to send data to the server for processing.\n",
    "# When the client sends a POST request, it sends the data in the request body, which is not visible in the URL.\n",
    "# POST requests are not cached or bookmarked, and are not visible in the browser history.\n",
    "# POST requests can be used for sending sensitive or large amounts of data, as the data is not visible in the URL and is encrypted before being sent over the network."
   ]
  },
  {
   "cell_type": "code",
   "execution_count": 3,
   "id": "6b5c21ad-777a-4d6a-9b44-8fbdf1526c0c",
   "metadata": {},
   "outputs": [],
   "source": [
    "#Q2. Why is request used in Flask?"
   ]
  },
  {
   "cell_type": "code",
   "execution_count": 4,
   "id": "7ba115be-e8de-4787-9850-4b133d48c4d4",
   "metadata": {},
   "outputs": [],
   "source": [
    "# In Flask, the request object is used to access data submitted in a client's HTTP request to the Flask application. The request object allows the Flask application to retrieve data submitted via HTML forms, query strings, cookies, and other HTTP request methods like POST, GET, PUT, DELETE, etc."
   ]
  },
  {
   "cell_type": "code",
   "execution_count": 5,
   "id": "debc97de-b589-40a3-bac6-37f41fcea346",
   "metadata": {},
   "outputs": [],
   "source": [
    "#Q3. Why is redirect() used in Flask?"
   ]
  },
  {
   "cell_type": "code",
   "execution_count": 6,
   "id": "3466803a-c514-4721-aee4-fe3a28ffc967",
   "metadata": {},
   "outputs": [],
   "source": [
    "# The redirect() function in Flask is used to redirect a user to a different endpoint(i.e., a different URL) within a Flask application. This is useful when you want to direct the user to a different page after they have completed an action on a particular page"
   ]
  },
  {
   "cell_type": "code",
   "execution_count": 7,
   "id": "37295e04-44e6-4304-a939-3198e0ef25d1",
   "metadata": {},
   "outputs": [],
   "source": [
    "#Q4. What are templates in Flask? Why is the render_template() function used?"
   ]
  },
  {
   "cell_type": "code",
   "execution_count": 8,
   "id": "9b39d610-148d-46b1-b57a-f6420261cd59",
   "metadata": {},
   "outputs": [],
   "source": [
    "# Templates in Flask are files that contain a mix of HTML, CSS, and other templating languages like Jinja2, which Flask uses by default. These files are used to generate dynamic web pages by inserting dynamic content and logic that is specific to a particular request or user. Templates help separate the presentation of the content from the actual content and logic itself, making the application easier to maintain and modify."
   ]
  },
  {
   "cell_type": "code",
   "execution_count": 9,
   "id": "992cf8ba-376d-4f78-8e31-b4156fbb0c68",
   "metadata": {},
   "outputs": [],
   "source": [
    "#Q5. Create a simple API. Use Postman to test it. Attach the screenshot of the output in the Jupyter Notebook."
   ]
  },
  {
   "cell_type": "code",
   "execution_count": 10,
   "id": "cac9c209-bff2-431d-804f-a979d5332232",
   "metadata": {},
   "outputs": [
    {
     "name": "stdout",
     "output_type": "stream",
     "text": [
      "Collecting flask\n",
      "  Downloading Flask-2.3.2-py3-none-any.whl (96 kB)\n",
      "\u001b[2K     \u001b[90m━━━━━━━━━━━━━━━━━━━━━━━━━━━━━━━━━━━━━━━━\u001b[0m \u001b[32m96.9/96.9 kB\u001b[0m \u001b[31m4.9 MB/s\u001b[0m eta \u001b[36m0:00:00\u001b[0m\n",
      "\u001b[?25hCollecting Werkzeug>=2.3.3\n",
      "  Downloading Werkzeug-2.3.3-py3-none-any.whl (242 kB)\n",
      "\u001b[2K     \u001b[90m━━━━━━━━━━━━━━━━━━━━━━━━━━━━━━━━━━━━━━\u001b[0m \u001b[32m242.3/242.3 kB\u001b[0m \u001b[31m23.5 MB/s\u001b[0m eta \u001b[36m0:00:00\u001b[0m\n",
      "\u001b[?25hRequirement already satisfied: click>=8.1.3 in /opt/conda/lib/python3.10/site-packages (from flask) (8.1.3)\n",
      "Collecting blinker>=1.6.2\n",
      "  Downloading blinker-1.6.2-py3-none-any.whl (13 kB)\n",
      "Requirement already satisfied: Jinja2>=3.1.2 in /opt/conda/lib/python3.10/site-packages (from flask) (3.1.2)\n",
      "Collecting itsdangerous>=2.1.2\n",
      "  Downloading itsdangerous-2.1.2-py3-none-any.whl (15 kB)\n",
      "Requirement already satisfied: MarkupSafe>=2.0 in /opt/conda/lib/python3.10/site-packages (from Jinja2>=3.1.2->flask) (2.1.1)\n",
      "Installing collected packages: Werkzeug, itsdangerous, blinker, flask\n",
      "  Attempting uninstall: blinker\n",
      "    Found existing installation: blinker 1.5\n",
      "    Uninstalling blinker-1.5:\n",
      "      Successfully uninstalled blinker-1.5\n",
      "Successfully installed Werkzeug-2.3.3 blinker-1.6.2 flask-2.3.2 itsdangerous-2.1.2\n",
      "Note: you may need to restart the kernel to use updated packages.\n"
     ]
    }
   ],
   "source": [
    "pip install flask"
   ]
  },
  {
   "cell_type": "code",
   "execution_count": null,
   "id": "891ab1ae-e447-4d00-af65-d9e068297b17",
   "metadata": {},
   "outputs": [
    {
     "name": "stdout",
     "output_type": "stream",
     "text": [
      " * Serving Flask app '__main__'\n",
      " * Debug mode: off\n"
     ]
    },
    {
     "name": "stderr",
     "output_type": "stream",
     "text": [
      "WARNING: This is a development server. Do not use it in a production deployment. Use a production WSGI server instead.\n",
      " * Running on all addresses (0.0.0.0)\n",
      " * Running on http://127.0.0.1:5000\n",
      " * Running on http://172.18.0.6:5000\n",
      "Press CTRL+C to quit\n"
     ]
    }
   ],
   "source": [
    "from flask import Flask, render_template, request, jsonify\n",
    "\n",
    "app = Flask(__name__)\n",
    "\n",
    "@app.route(\"/idpass\", methods = ['POST'])\n",
    "def id_pass():\n",
    "    \n",
    "    if (request.method == 'POST'):\n",
    "        userid = request.json['userid']\n",
    "        passw = request.json['passw']\n",
    "        result = 'Your username is {} and the password is {}'.format(userid,passw)\n",
    "    \n",
    "    return jsonify(result)\n",
    "\n",
    "if __name__=='__main__':\n",
    "    app.run(host=\"0.0.0.0\")"
   ]
  },
  {
   "cell_type": "markdown",
   "id": "7a7a1718-c91a-40f1-a7d1-6de7eceea770",
   "metadata": {},
   "source": []
  }
 ],
 "metadata": {
  "kernelspec": {
   "display_name": "Python 3 (ipykernel)",
   "language": "python",
   "name": "python3"
  },
  "language_info": {
   "codemirror_mode": {
    "name": "ipython",
    "version": 3
   },
   "file_extension": ".py",
   "mimetype": "text/x-python",
   "name": "python",
   "nbconvert_exporter": "python",
   "pygments_lexer": "ipython3",
   "version": "3.10.8"
  }
 },
 "nbformat": 4,
 "nbformat_minor": 5
}
