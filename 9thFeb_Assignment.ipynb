{
 "cells": [
  {
   "cell_type": "code",
   "execution_count": 2,
   "id": "c1216be7-07c8-42ec-ba17-8d088985a010",
   "metadata": {},
   "outputs": [
    {
     "data": {
      "text/plain": [
       "'Q1, Create a vehicle class with an init method having instance variables as name_of_vehicle, max_speed\\nand average_of_vehicle.'"
      ]
     },
     "execution_count": 2,
     "metadata": {},
     "output_type": "execute_result"
    }
   ],
   "source": [
    "'''Q1, Create a vehicle class with an init method having instance variables as name_of_vehicle, max_speed\n",
    "and average_of_vehicle.'''"
   ]
  },
  {
   "cell_type": "code",
   "execution_count": 3,
   "id": "047ae05e-aa8e-4667-9de5-6481d403b75a",
   "metadata": {},
   "outputs": [],
   "source": [
    "class vehicle:\n",
    "    def __init__(self, name_of_vehicle, max_speed, average_of_vehicle):\n",
    "        self.name_of_vehicle=name_of_vehicle\n",
    "        self.max_speed=max_speed\n",
    "        self.average_of_vehicle=average_of_vehicle"
   ]
  },
  {
   "cell_type": "code",
   "execution_count": 9,
   "id": "be20f215-dc25-4dd4-a919-9e3899578d3d",
   "metadata": {},
   "outputs": [],
   "source": [
    "firstcar=vehicle(\"Hyundai\", 180, 50)"
   ]
  },
  {
   "cell_type": "code",
   "execution_count": 2,
   "id": "0b55a64f-b20c-45e3-8396-00b35dc9d3c1",
   "metadata": {},
   "outputs": [
    {
     "data": {
      "text/plain": [
       "'Q2. Create a child class car from the vehicle class created in Que 1, which will inherit the vehicle class.\\nCreate a method named seating_capacity which takes capacity as an argument and returns the name of\\nthe vehicle and its seating capacity.'"
      ]
     },
     "execution_count": 2,
     "metadata": {},
     "output_type": "execute_result"
    }
   ],
   "source": [
    "'''Q2. Create a child class car from the vehicle class created in Que 1, which will inherit the vehicle class.\n",
    "Create a method named seating_capacity which takes capacity as an argument and returns the name of\n",
    "the vehicle and its seating capacity.'''"
   ]
  },
  {
   "cell_type": "code",
   "execution_count": 16,
   "id": "2301774e-517e-471e-83bf-818cae8bccb5",
   "metadata": {},
   "outputs": [],
   "source": [
    "class car(vehicle):\n",
    "    def __init__(self, name_of_vehicle, max_speed, average_of_vehicle, capacity):\n",
    "        vehicle.__init__(self, name_of_vehicle, max_speed, average_of_vehicle)\n",
    "        self.capacity=capacity\n",
    "        \n",
    "    def seating_capacity(self, capacity):\n",
    "        return self.name_of_vehicle\n",
    "        return self.capacity"
   ]
  },
  {
   "cell_type": "code",
   "execution_count": 19,
   "id": "31871d7d-b55b-4365-bf14-fae1b9e27cbd",
   "metadata": {},
   "outputs": [],
   "source": [
    "my_car= car(\"Toyota\", 180, 50, 5)"
   ]
  },
  {
   "cell_type": "code",
   "execution_count": 10,
   "id": "9b08091e-a6eb-442e-9417-2832b961aff1",
   "metadata": {},
   "outputs": [],
   "source": [
    "#Q3. What is multiple inheritance? Write a python code to demonstrate multiple inheritance."
   ]
  },
  {
   "cell_type": "code",
   "execution_count": 2,
   "id": "f5683feb-724a-40d2-a7b4-a931bea77bc8",
   "metadata": {},
   "outputs": [
    {
     "data": {
      "text/plain": [
       "'Ans: Multiple inheritence is the process of deriving a child class from more than one parent classes. \\nTo explain this in simple terms, I would say just like a child is derived from 2 parents (father and mother), \\nin the same way multiple inheritance works for Python classes.'"
      ]
     },
     "execution_count": 2,
     "metadata": {},
     "output_type": "execute_result"
    }
   ],
   "source": [
    "'''Ans: Multiple inheritence is the process of deriving a child class from more than one parent classes. \n",
    "To explain this in simple terms, I would say just like a child is derived from 2 parents (father and mother), \n",
    "in the same way multiple inheritance works for Python classes.'''"
   ]
  },
  {
   "cell_type": "code",
   "execution_count": 5,
   "id": "ac75da7d-a5fe-4ad2-92dc-95673cb34a32",
   "metadata": {},
   "outputs": [
    {
     "name": "stdout",
     "output_type": "stream",
     "text": [
      "This is the Father Class\n",
      "This is the Mother Class\n",
      "This is the child class\n"
     ]
    }
   ],
   "source": [
    "#Python code for multiple inheritance:\n",
    "\n",
    "class father:\n",
    "    def p1(self):\n",
    "        print(\"This is the Father Class\")\n",
    "class mother:\n",
    "    def p2(self):\n",
    "        print(\"This is the Mother Class\")\n",
    "class child(father, mother):\n",
    "    def c1(self):\n",
    "        print(\"This is the child class\")\n",
    "\n",
    "Ayaan=child()\n",
    "Ayaan.p1()\n",
    "Ayaan.p2()\n",
    "Ayaan.c1()"
   ]
  },
  {
   "cell_type": "code",
   "execution_count": 12,
   "id": "42686976-7071-42f7-abb7-92205f6d8d17",
   "metadata": {},
   "outputs": [],
   "source": [
    "#Q4. What are getter and setter in python? Create a class and create a getter and a setter method in this\n",
    "#class."
   ]
  },
  {
   "cell_type": "code",
   "execution_count": 2,
   "id": "4af58a8b-9096-4a95-b744-88a687da2c38",
   "metadata": {},
   "outputs": [
    {
     "data": {
      "text/plain": [
       "'When a private variable in a class, it cannot be accessed by an outsider. This is the basic concept of encapsulation. \\nGetter method is used to access the private variables while the setter method is used to modify those private variables.'"
      ]
     },
     "execution_count": 2,
     "metadata": {},
     "output_type": "execute_result"
    }
   ],
   "source": [
    "'''When a private variable in a class, it cannot be accessed by an outsider. This is the basic concept of encapsulation. \n",
    "Getter method is used to access the private variables while the setter method is used to modify those private variables.'''"
   ]
  },
  {
   "cell_type": "code",
   "execution_count": 16,
   "id": "5644a95d-3e2e-4b58-926b-421bd754e771",
   "metadata": {},
   "outputs": [],
   "source": [
    "#Example code:\n",
    "\n",
    "class house:\n",
    "    \n",
    "    def __init__(self, rent, other_expenditure):\n",
    "        self.__rent=rent\n",
    "        self.other_expenditure=other_expenditure\n",
    "    \n",
    "    #getter function\n",
    "    @property\n",
    "    def view_rent(self):\n",
    "        return self.__rent\n",
    "    \n",
    "    #setter function\n",
    "    @view_rent.setter\n",
    "    def change_rent(self, nrent):\n",
    "        self.__rent = nrent\n",
    "        print(self.__rent)\n"
   ]
  },
  {
   "cell_type": "code",
   "execution_count": 7,
   "id": "e309330a-4c16-4d1c-8414-5cbb364f4f01",
   "metadata": {},
   "outputs": [],
   "source": [
    "New_home=house(15000, 5000)"
   ]
  },
  {
   "cell_type": "code",
   "execution_count": 8,
   "id": "7bf43dd1-db17-4a11-a915-598865836b52",
   "metadata": {},
   "outputs": [
    {
     "data": {
      "text/plain": [
       "15000"
      ]
     },
     "execution_count": 8,
     "metadata": {},
     "output_type": "execute_result"
    }
   ],
   "source": [
    "New_home.view_rent"
   ]
  },
  {
   "cell_type": "code",
   "execution_count": 17,
   "id": "9ddef443-7bf4-40d1-a7e7-e6529f067f16",
   "metadata": {},
   "outputs": [],
   "source": [
    "New_home.change_rent=20000"
   ]
  },
  {
   "cell_type": "code",
   "execution_count": null,
   "id": "a71dd8a2-8e0f-43b9-ac7d-7ae1628a3039",
   "metadata": {},
   "outputs": [],
   "source": [
    "New_home.view_rent"
   ]
  },
  {
   "cell_type": "code",
   "execution_count": 13,
   "id": "bd139698-9890-4dc9-a38e-61382569fe22",
   "metadata": {},
   "outputs": [],
   "source": [
    "#Q5.What is method overriding in python? Write a python code to demonstrate method overriding."
   ]
  },
  {
   "cell_type": "code",
   "execution_count": 6,
   "id": "2a3dae66-37cd-4c8b-8c9f-f6ecac7ced53",
   "metadata": {},
   "outputs": [],
   "source": [
    "#Method overriding is the concept where a child class can provide a specific implementation for a method already \n",
    "#defined in the parent class."
   ]
  },
  {
   "cell_type": "code",
   "execution_count": 8,
   "id": "0f3a61d8-2f31-446e-a437-32efa55dda30",
   "metadata": {},
   "outputs": [
    {
     "name": "stdout",
     "output_type": "stream",
     "text": [
      "Inside Parent\n",
      "Inside Child\n"
     ]
    }
   ],
   "source": [
    "#Code for Method Overriding:\n",
    "\n",
    "class Parent():\n",
    "      \n",
    "    def __init__(self):\n",
    "        self.value = \"Inside Parent\"\n",
    "    def show(self):\n",
    "        print(self.value)\n",
    "\n",
    "class Child(Parent):\n",
    "      \n",
    "    def __init__(self):\n",
    "        self.value = \"Inside Child\"\n",
    "    def show(self):\n",
    "        print(self.value)\n",
    "          \n",
    "obj1 = Parent()\n",
    "obj2 = Child()\n",
    "  \n",
    "obj1.show()\n",
    "obj2.show()"
   ]
  },
  {
   "cell_type": "code",
   "execution_count": null,
   "id": "2da69b81-73be-4848-a798-6d65def68b3d",
   "metadata": {},
   "outputs": [],
   "source": []
  }
 ],
 "metadata": {
  "kernelspec": {
   "display_name": "Python 3 (ipykernel)",
   "language": "python",
   "name": "python3"
  },
  "language_info": {
   "codemirror_mode": {
    "name": "ipython",
    "version": 3
   },
   "file_extension": ".py",
   "mimetype": "text/x-python",
   "name": "python",
   "nbconvert_exporter": "python",
   "pygments_lexer": "ipython3",
   "version": "3.10.8"
  }
 },
 "nbformat": 4,
 "nbformat_minor": 5
}
