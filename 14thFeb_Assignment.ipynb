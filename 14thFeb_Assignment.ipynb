{
 "cells": [
  {
   "cell_type": "code",
   "execution_count": 1,
   "id": "e5fb7375-0526-4381-9159-69cdc95486da",
   "metadata": {},
   "outputs": [],
   "source": [
    "#Q1) What is multithreading in python? hy is it used? Name the module used to handle threads in python."
   ]
  },
  {
   "cell_type": "code",
   "execution_count": 17,
   "id": "23a3f6b0-04d8-4ee3-844c-7642023a5ac1",
   "metadata": {},
   "outputs": [],
   "source": [
    "#Multithreading in Python refers to the execution of multiple threads (or parallel execution of multiple parts of a program) simultaneously within a single process. Each thread runs concurrently and can execute different parts of the program concurrently. \n",
    "#Multithreading is used in Python to achieve parallelism, improve performance, and increase the efficiency of programs that have multiple tasks to perform. \n",
    "#It can be used to speed up I/O-bound tasks like reading and writing files, as well as CPU-bound tasks like image processing or numerical computations. \n",
    "#In Python, the module used to handle threads is called threading. It provides a simple and efficient way to create and manage threads in a program. With the threading module, developers can create new threads, start them, and wait for them to complete. The module provides synchronization primitives like locks, events, and semaphores to manage access to shared resources among threads."
   ]
  },
  {
   "cell_type": "code",
   "execution_count": 11,
   "id": "914b98bd-10de-4f1a-ac05-8d0b43369239",
   "metadata": {},
   "outputs": [
    {
     "data": {
      "text/plain": [
       "'Q2) Why threading module used? Write the use of the following functions\\nactiveCount\\ncurrentThread\\nenumerate'"
      ]
     },
     "execution_count": 11,
     "metadata": {},
     "output_type": "execute_result"
    }
   ],
   "source": [
    "'''Q2) Why threading module used? Write the use of the following functions\n",
    "activeCount\n",
    "currentThread\n",
    "enumerate'''"
   ]
  },
  {
   "cell_type": "code",
   "execution_count": 12,
   "id": "ec518512-636d-4985-8ac9-6c7686410290",
   "metadata": {
    "jupyter": {
     "source_hidden": true
    },
    "tags": []
   },
   "outputs": [],
   "source": [
    "# The threading module in Python is used to create and manage threads within a program. It provides a simple and efficient way to achieve concurrency and parallelism in Python programs. The threading module is used to spawn new threads, start them, and manage them throughout their lifecycle.\n",
    "\n",
    "# The following are the uses of the functions in the threading module:\n",
    "\n",
    "# activeCount(): This function returns the number of thread objects that are currently alive and active in the program. It is useful when debugging programs that use threading to ensure that all threads are running as expected.\n",
    "\n",
    "# currentThread(): This function returns a reference to the currently executing thread object. It is useful when a program needs to perform some operation on the current thread, such as setting or getting thread-specific data.\n",
    "\n",
    "# enumerate(): This function returns a list of all thread objects that are currently alive in the program. It is useful when a program needs to iterate over all the threads in the program and perform some operation on each thread. The function returns a list of thread objects, which can be used to access each thread's attributes and methods."
   ]
  },
  {
   "cell_type": "code",
   "execution_count": 14,
   "id": "f0a14bed-1fd9-4bb6-baaa-0883a08b8f5e",
   "metadata": {},
   "outputs": [
    {
     "name": "stdout",
     "output_type": "stream",
     "text": [
      "Thread-5 (worker) is working\n",
      "Thread-6 (worker) is working\n",
      "Thread-7 (worker) is working\n",
      "Thread-8 (worker) is working\n",
      "Thread-9 (worker) is working\n",
      "Number of active threads: 8\n",
      "List of active threads:\n",
      "MainThread\n",
      "IOPub\n",
      "Heartbeat\n",
      "Thread-3 (_watch_pipe_fd)\n",
      "Thread-4 (_watch_pipe_fd)\n",
      "Control\n",
      "IPythonHistorySavingThread\n",
      "Thread-2\n"
     ]
    }
   ],
   "source": [
    "import threading\n",
    "\n",
    "def worker():\n",
    "    print(f\"{threading.current_thread().name} is working\")\n",
    "\n",
    "def main():\n",
    "    for i in range(5):\n",
    "        t = threading.Thread(target=worker)\n",
    "        t.start()\n",
    "\n",
    "    print(f\"Number of active threads: {threading.active_count()}\")\n",
    "    threads = threading.enumerate()\n",
    "    print(\"List of active threads:\")\n",
    "    for thread in threads:\n",
    "        print(thread.name)\n",
    "\n",
    "\n",
    "if __name__ == \"__main__\":\n",
    "    main()"
   ]
  },
  {
   "cell_type": "code",
   "execution_count": 15,
   "id": "0b3b4fa7-38e2-42f7-8280-98056cbfeddd",
   "metadata": {},
   "outputs": [],
   "source": [
    "#Q3) Explain the following functions:\n",
    "# run()\n",
    "# start()\n",
    "# join()\n",
    "# isAlive()"
   ]
  },
  {
   "cell_type": "code",
   "execution_count": 16,
   "id": "4e3c0087-1522-49be-979f-cddeff92e101",
   "metadata": {},
   "outputs": [],
   "source": [
    "# The following are the explanations for the functions in the threading module:\n",
    "\n",
    "# run(): This function is called when a thread is started using the start() method. It is the entry point for the thread and contains the code that the thread will execute.\n",
    "\n",
    "# start(): This method is used to start a new thread. When this method is called, the new thread is created, and its run() method is called in a separate thread of execution.\n",
    "\n",
    "# join(): This method is used to wait for a thread to complete its execution. When this method is called, the program waits for the thread to finish executing before continuing with the rest of the code.\n",
    "\n",
    "# isAlive(): This method is used to check whether a thread is currently executing or not . When this method is called, it returns a Boolean value indicating whether the thread is alive(i.e., executing) or not ."
   ]
  },
  {
   "cell_type": "code",
   "execution_count": 20,
   "id": "57747ed5-73f1-48b1-b897-a2a96335deb8",
   "metadata": {},
   "outputs": [
    {
     "name": "stdout",
     "output_type": "stream",
     "text": [
      "Thread starting...\n",
      "Thread finishing...\n",
      "Thread has finished\n"
     ]
    }
   ],
   "source": [
    "import threading\n",
    "import time\n",
    "\n",
    "class myThread(threading.Thread):\n",
    "    def run(self):\n",
    "        print(\"Thread starting...\")\n",
    "        time.sleep(2)  \n",
    "        print(\"Thread finishing...\")\n",
    "\n",
    "\n",
    "t = myThread()\n",
    "t.start()\n",
    "t.join()\n",
    "\n",
    "if t.is_alive():\n",
    "    print(\"Thread is still running\")\n",
    "else:\n",
    "    print(\"Thread has finished\")  "
   ]
  },
  {
   "cell_type": "code",
   "execution_count": 21,
   "id": "eaf0dafc-b167-46cc-a1be-22fc89de044f",
   "metadata": {},
   "outputs": [],
   "source": [
    "#4. Write a python program to create two threads. Thread one must print the list of squares and thread two must print the list of cubes"
   ]
  },
  {
   "cell_type": "code",
   "execution_count": 26,
   "id": "037ad2fd-de75-42fe-a812-3417559359f7",
   "metadata": {},
   "outputs": [
    {
     "name": "stdout",
     "output_type": "stream",
     "text": [
      "Square of 0 is 0\n",
      "Square of 1 is 1\n",
      "Square of 2 is 4\n",
      "Square of 3 is 9\n",
      "Square of 4 is 16\n",
      "Square of 5 is 25\n",
      "Square of 6 is 36\n",
      "Square of 7 is 49\n",
      "Square of 8 is 64\n",
      "Square of 9 is 81\n",
      "Cube of 0 is 0\n",
      "Cube of 1 is 1\n",
      "Cube of 2 is 8\n",
      "Cube of 3 is 27\n",
      "Cube of 4 is 64\n",
      "Cube of 5 is 125\n",
      "Cube of 6 is 216\n",
      "Cube of 7 is 343\n",
      "Cube of 8 is 512\n",
      "Cube of 9 is 729\n"
     ]
    }
   ],
   "source": [
    "import threading\n",
    "\n",
    "def sq(n):\n",
    "    print(\"Square of %d is %d\"%(n, n*n))\n",
    "def cube(n):\n",
    "    print(\"Cube of %d is %d\" %(n, n*n*n))\n",
    "    \n",
    "t1=[threading.Thread(target=sq, args=(i,)) for i in range(10)]\n",
    "t2=[threading.Thread(target=cube, args=(j,)) for j in range(10)]\n",
    "\n",
    "for t in t1:\n",
    "    t.start()\n",
    "    \n",
    "for k in t2:\n",
    "    k.start()"
   ]
  },
  {
   "cell_type": "code",
   "execution_count": 27,
   "id": "a3033dd1-d7eb-444d-bd92-4454f6455e03",
   "metadata": {},
   "outputs": [],
   "source": [
    "# 5. State advantages and disadvantages of multithreading"
   ]
  },
  {
   "cell_type": "code",
   "execution_count": 28,
   "id": "66942476-5871-4ad2-bae8-357461e3cd5b",
   "metadata": {},
   "outputs": [],
   "source": [
    "# Advantages of multithreading:\n",
    "# Increased performance and responsiveness: Multithreading allows a program to perform multiple tasks concurrently. This can result in increased performance and responsiveness, as the program can make use of multiple processors or processor cores to execute tasks simultaneously.\n",
    "\n",
    "# Efficient use of resources: Multithreading can help make efficient use of system resources, as threads can share data and resources, avoiding the overhead of creating and destroying individual processes.\n",
    "\n",
    "# Simplified programming: Multithreading can simplify programming in some cases, as it allows complex tasks to be broken down into smaller, more manageable subtasks that can be executed concurrently.\n",
    "\n",
    "# Improved user experience: Multithreading can improve the user experience of an application, as it can keep the UI responsive while performing background tasks.\n",
    "\n",
    "# Disadvantages of multithreading:\n",
    "# Complexity: Multithreaded programs can be more complex and difficult to write and debug than single-threaded programs. The use of locks, semaphores, and other synchronization mechanisms can introduce additional complexity and increase the likelihood of bugs and race conditions.\n",
    "\n",
    "# Resource contention: Multithreading can lead to resource contention and synchronization overhead, as threads compete for shared resources such as memory, CPU time, and I/O devices.\n",
    "\n",
    "# Difficult to debug: Debugging multithreaded programs can be difficult, as the behavior of a program can be affected by the order in which threads execute, making it hard to reproduce and diagnose bugs.\n",
    "\n",
    "# Overhead: Multithreading can introduce additional overhead due to the need to manage multiple threads, allocate and deallocate resources, and synchronize access to shared data."
   ]
  },
  {
   "cell_type": "code",
   "execution_count": 29,
   "id": "74182e3b-3272-48ff-9f5a-19a4e1cf48c2",
   "metadata": {},
   "outputs": [],
   "source": [
    "# 6. Explain deadlocks and race conditions."
   ]
  },
  {
   "cell_type": "code",
   "execution_count": 31,
   "id": "92f4e57d-9ace-426c-803c-b6fae9b40731",
   "metadata": {},
   "outputs": [],
   "source": [
    "# Deadlocks\n",
    "# A deadlock occurs when two or more threads are waiting for each other to release a resource, and none of them can proceed. This can happen when threads hold locks on resources that other threads need, but none of them are willing to release their locks until they have acquired all the resources they need.\n",
    "\n",
    "# For example, suppose there are two threads, T1 and T2, and two resources, R1 and R2. If T1 holds a lock on R1 and is waiting for R2, and T2 holds a lock on R2 and is waiting for R1, a deadlock occurs. Neither thread can proceed, and the program becomes stuck.\n",
    "\n",
    "# Deadlocks can be difficult to detect and resolve, and can result in a program becoming unresponsive or crashing. To avoid deadlocks, it is important to use synchronization mechanisms like locks, semaphores, and monitors correctly and carefully manage resource acquisition and release.\n",
    "\n",
    "# Race Conditions\n",
    "# A race condition occurs when two or more threads access a shared resource simultaneously, and the result depends on the order in which the threads execute. This can happen when a shared resource, such as a variable or data structure, is not properly synchronized, and threads can read or write to it concurrently.\n",
    "\n",
    "# For example, suppose there are two threads, T1 and T2, and a shared variable, X. If both threads read the value of X, perform some operation on it, and then write the result back to X, a race condition can occur if they access X concurrently. Depending on the order in which they execute, the final value of X may be different than if they executed sequentially.\n",
    "\n",
    "# Race conditions can result in unpredictable behavior and incorrect results, and can be difficult to detect and debug. To avoid race conditions, it is important to properly synchronize access to shared resources using locks, semaphores, or other synchronization mechanisms. Additionally, it is important to ensure that shared data is accessed and modified atomically, using operations that cannot be interrupted."
   ]
  },
  {
   "cell_type": "code",
   "execution_count": null,
   "id": "e7d6099e-830a-43c8-ac1d-5b811ca39601",
   "metadata": {},
   "outputs": [],
   "source": []
  }
 ],
 "metadata": {
  "kernelspec": {
   "display_name": "Python 3 (ipykernel)",
   "language": "python",
   "name": "python3"
  },
  "language_info": {
   "codemirror_mode": {
    "name": "ipython",
    "version": 3
   },
   "file_extension": ".py",
   "mimetype": "text/x-python",
   "name": "python",
   "nbconvert_exporter": "python",
   "pygments_lexer": "ipython3",
   "version": "3.10.8"
  }
 },
 "nbformat": 4,
 "nbformat_minor": 5
}
