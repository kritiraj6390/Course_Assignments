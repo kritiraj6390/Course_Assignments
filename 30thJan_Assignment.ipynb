{
 "cells": [
  {
   "cell_type": "code",
   "execution_count": 2,
   "id": "cc73c3ab-a52d-4caf-b47f-b804f2e86fd4",
   "metadata": {},
   "outputs": [],
   "source": [
    "#Q1. Write a program to accept percentage from the user and display the grade according to the table"
   ]
  },
  {
   "cell_type": "code",
   "execution_count": 3,
   "id": "6ef8ce9f-f388-49cc-a1e6-82aae24f53f8",
   "metadata": {},
   "outputs": [
    {
     "name": "stdin",
     "output_type": "stream",
     "text": [
      "Enter Percentage: 65\n"
     ]
    },
    {
     "name": "stdout",
     "output_type": "stream",
     "text": [
      "Grade :  C\n"
     ]
    }
   ],
   "source": [
    "percent=int(input(\"Enter Percentage:\"))\n",
    "if percent>90:\n",
    "    grade = 'A'\n",
    "    print (\"Grade : \",grade)\n",
    "elif percent>80:\n",
    "    grade = 'B'\n",
    "    print (\"Grade : \",grade)\n",
    "elif percent>60:\n",
    "    grade = 'C'\n",
    "    print (\"Grade : \",grade)\n",
    "else:\n",
    "    grade = 'D'\n",
    "    print(\"Grade : \", grade)"
   ]
  },
  {
   "cell_type": "code",
   "execution_count": 4,
   "id": "0acb0a92-01ab-43c7-972d-7bbbbcfa9ac8",
   "metadata": {},
   "outputs": [],
   "source": [
    "#Q2. Write a program to accept the cost price of a bike and display the road tax to be paid according to the criteria"
   ]
  },
  {
   "cell_type": "code",
   "execution_count": 7,
   "id": "8cbb47e4-11b5-4abc-a150-27ca78a23e49",
   "metadata": {},
   "outputs": [
    {
     "name": "stdin",
     "output_type": "stream",
     "text": [
      "Enter Cost Price: 50000\n"
     ]
    },
    {
     "name": "stdout",
     "output_type": "stream",
     "text": [
      "Tax =  2500.0\n"
     ]
    }
   ],
   "source": [
    "CP=int(input(\"Enter Cost Price:\"))\n",
    "if CP>100000:\n",
    "    tax = CP*0.15\n",
    "    print(\"Tax = \", tax)\n",
    "elif CP>50000:\n",
    "    tax = CP*0.1\n",
    "    print (\"Tax = \", tax)\n",
    "else:\n",
    "    tax = CP*0.05\n",
    "    print(\"Tax = \", tax)"
   ]
  },
  {
   "cell_type": "code",
   "execution_count": 8,
   "id": "a5bb1d10-80ef-49e4-bfe3-5fd1ed355d72",
   "metadata": {},
   "outputs": [],
   "source": [
    "#Q3. Accept any city from the user and display monuments of that city."
   ]
  },
  {
   "cell_type": "code",
   "execution_count": 9,
   "id": "3ad5755e-1068-4767-b77c-a8fcaa27146f",
   "metadata": {},
   "outputs": [
    {
     "name": "stdin",
     "output_type": "stream",
     "text": [
      "Enter City: Agra\n"
     ]
    },
    {
     "name": "stdout",
     "output_type": "stream",
     "text": [
      "Taj Mahal\n"
     ]
    }
   ],
   "source": [
    "City=input(\"Enter City:\")\n",
    "if City == 'Delhi':\n",
    "    print(\"Red Fort\")\n",
    "elif City == 'Agra': \n",
    "    print (\"Taj Mahal\")\n",
    "elif City=='Jaipur':\n",
    "    print(\"Jal Mahal\")"
   ]
  },
  {
   "cell_type": "code",
   "execution_count": 10,
   "id": "2ce5c5df-13cf-4e69-ac0a-b10d50423562",
   "metadata": {},
   "outputs": [],
   "source": [
    "#Q4. Check how many times a given number can be divided by 3 before it is less than or equal to 10."
   ]
  },
  {
   "cell_type": "code",
   "execution_count": 15,
   "id": "ce74bc3b-7d4a-45f3-8c3a-f52c10dda254",
   "metadata": {},
   "outputs": [
    {
     "name": "stdin",
     "output_type": "stream",
     "text": [
      "Enter number: 120\n"
     ]
    },
    {
     "name": "stdout",
     "output_type": "stream",
     "text": [
      "Number of times =  3\n"
     ]
    }
   ],
   "source": [
    "num = int(input(\"Enter number:\"))\n",
    "count = 0\n",
    "for i in range(num,0,-1):\n",
    "    if num>10:\n",
    "        num = num/3\n",
    "        count = count+1\n",
    "        continue\n",
    "    else:\n",
    "          break\n",
    "print(\"Number of times = \", count)"
   ]
  },
  {
   "cell_type": "code",
   "execution_count": 16,
   "id": "8e300e77-f6dc-4ca2-b8f7-af826a3e582b",
   "metadata": {},
   "outputs": [],
   "source": [
    "#Q5. Why and When to Use while Loop in Python give a detailed description with example"
   ]
  },
  {
   "cell_type": "code",
   "execution_count": 23,
   "id": "80e62c58-2335-489a-a2de-17218637350d",
   "metadata": {},
   "outputs": [],
   "source": [
    "#Ans: The while loop is used to execute a block of code repeatedly till the condition becomes false. Find an example of a while loop below:"
   ]
  },
  {
   "cell_type": "code",
   "execution_count": 26,
   "id": "b03db532-87cf-4a07-b16a-b30b7491b6fb",
   "metadata": {},
   "outputs": [
    {
     "name": "stdout",
     "output_type": "stream",
     "text": [
      "0\n",
      "1\n",
      "2\n",
      "3\n",
      "4\n"
     ]
    }
   ],
   "source": [
    "i = 0\n",
    "while i<5:\n",
    "    print(i)\n",
    "    i = i+1"
   ]
  },
  {
   "cell_type": "code",
   "execution_count": 27,
   "id": "43e05119-bed9-4933-a1f7-0ba33fbd807a",
   "metadata": {},
   "outputs": [],
   "source": [
    "#In the above example, the variable i stores the value 0. While loop checks that the value of i should be less than 5.\n",
    "#While loop checks the condition before entering the loop. Since 0<5, it enters the loop, prints i and then increases the value of i by 1.\n",
    "#The code block keeps doing this till i reaches the value of 5 and then it leaves the loop and the final output is reached."
   ]
  },
  {
   "cell_type": "code",
   "execution_count": 17,
   "id": "ae1bfdc6-8fad-4c94-9634-93d3725f0427",
   "metadata": {},
   "outputs": [],
   "source": [
    "#Q6.  Use nested while loop to print 3 different pattern. "
   ]
  },
  {
   "cell_type": "code",
   "execution_count": 1,
   "id": "c4cd226e-c5ee-4985-af40-cee0eee46e82",
   "metadata": {},
   "outputs": [],
   "source": [
    "#1st Pattern:\n",
    "#*\n",
    "#**\n",
    "#***\n",
    "#****\n",
    "#*****"
   ]
  },
  {
   "cell_type": "code",
   "execution_count": 1,
   "id": "e96de92a-625d-4410-9740-e4b815f4ad9d",
   "metadata": {},
   "outputs": [
    {
     "name": "stdout",
     "output_type": "stream",
     "text": [
      "* \n",
      "\n",
      "* * \n",
      "\n",
      "* * * \n",
      "\n",
      "* * * * \n",
      "\n",
      "* * * * * \n",
      "\n"
     ]
    }
   ],
   "source": [
    "i =0\n",
    "while i<5:\n",
    "    j=0\n",
    "    while j<=i:\n",
    "        print('*', end = ' ')\n",
    "        j=j+1\n",
    "    print(\"\\n\")\n",
    "    i=i+1"
   ]
  },
  {
   "cell_type": "code",
   "execution_count": 2,
   "id": "cbe73b20-0d4d-4a6e-8a70-ba59fb508dfb",
   "metadata": {},
   "outputs": [
    {
     "name": "stdout",
     "output_type": "stream",
     "text": [
      "* * * * * \n",
      "\n",
      "* * * * \n",
      "\n",
      "* * * \n",
      "\n",
      "* * \n",
      "\n",
      "* \n",
      "\n"
     ]
    }
   ],
   "source": [
    "i =0\n",
    "\n",
    "while i<5:\n",
    "    j=5\n",
    "    while j>i:\n",
    "        print('*', end = ' ')\n",
    "        j=j-1\n",
    "    print(\"\\n\")\n",
    "    i=i+1"
   ]
  },
  {
   "cell_type": "code",
   "execution_count": null,
   "id": "0eefb13e-b555-487e-8bd2-f5e20b9e05c7",
   "metadata": {},
   "outputs": [],
   "source": [
    "n = int(input('Enter number of rows : '))\n",
    " \n",
    "k = 1\n",
    "i = 1\n",
    "while i <= n :\n",
    "    j = 1\n",
    "    while j <= i:\n",
    "        print(\"{:3d}\".format(k), end = \" \")\n",
    "        j += 1\n",
    "        k += 1\n",
    "    print()\n",
    "    i += 1"
   ]
  },
  {
   "cell_type": "code",
   "execution_count": 28,
   "id": "5ba25f35-c72b-443e-9be9-005b6bfeece7",
   "metadata": {},
   "outputs": [],
   "source": [
    "#Q7. Reverse a while loop to display numbers from 10 to 1. "
   ]
  },
  {
   "cell_type": "code",
   "execution_count": 20,
   "id": "9d6ffff8-cf38-4866-9f46-f1c80385b739",
   "metadata": {},
   "outputs": [
    {
     "name": "stdout",
     "output_type": "stream",
     "text": [
      "10\n",
      "9\n",
      "8\n",
      "7\n",
      "6\n",
      "5\n",
      "4\n",
      "3\n",
      "2\n",
      "1\n"
     ]
    }
   ],
   "source": [
    "num = 10\n",
    "while num>0:\n",
    "    print (num)\n",
    "    num = num - 1"
   ]
  },
  {
   "cell_type": "code",
   "execution_count": 21,
   "id": "138fd107-cfdd-4224-ace9-2b6790b230b4",
   "metadata": {},
   "outputs": [],
   "source": [
    "#Q8. Reverse a while loop to display numbers from 10 to 1 "
   ]
  },
  {
   "cell_type": "code",
   "execution_count": 22,
   "id": "a7b6fea9-4f48-4279-9b36-5aaf8ae5f1ef",
   "metadata": {},
   "outputs": [
    {
     "name": "stdout",
     "output_type": "stream",
     "text": [
      "10\n",
      "9\n",
      "8\n",
      "7\n",
      "6\n",
      "5\n",
      "4\n",
      "3\n",
      "2\n",
      "1\n"
     ]
    }
   ],
   "source": [
    "num = 10\n",
    "while num>0:\n",
    "    print (num)\n",
    "    num = num - 1"
   ]
  },
  {
   "cell_type": "code",
   "execution_count": null,
   "id": "2aa6566a-d2e2-4085-90fa-7a95b9c7d080",
   "metadata": {},
   "outputs": [],
   "source": []
  }
 ],
 "metadata": {
  "kernelspec": {
   "display_name": "Python 3 (ipykernel)",
   "language": "python",
   "name": "python3"
  },
  "language_info": {
   "codemirror_mode": {
    "name": "ipython",
    "version": 3
   },
   "file_extension": ".py",
   "mimetype": "text/x-python",
   "name": "python",
   "nbconvert_exporter": "python",
   "pygments_lexer": "ipython3",
   "version": "3.10.8"
  }
 },
 "nbformat": 4,
 "nbformat_minor": 5
}
