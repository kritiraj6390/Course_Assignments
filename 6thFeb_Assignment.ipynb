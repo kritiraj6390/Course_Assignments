{
 "cells": [
  {
   "cell_type": "code",
   "execution_count": 2,
   "id": "f0665f64-d207-4eed-9d1d-1fe99dfbef00",
   "metadata": {},
   "outputs": [],
   "source": [
    "#Q1. Create a function which will take a list as an argument and return the product of all the numbers\n",
    "#after creating a flat list.\n",
    "#Use the below-given list as an argument for your function.\n",
    "\n",
    "#list1 = [1,2,3,4, [44,55,66, True], False, (34,56,78,89,34), {1,2,3,3,2,1}, {1:34, \"key2\": [55, 67, 78, 89], 4: (45,\n",
    "#22, 61, 34)}, [56, 'data science'], 'Machine Learning']\n",
    "\n",
    "#Note: you must extract numeric keys and values of the dictionary also."
   ]
  },
  {
   "cell_type": "code",
   "execution_count": 1,
   "id": "5d1f95ee-613e-4421-a1e7-89a6abad09e0",
   "metadata": {},
   "outputs": [],
   "source": [
    "list1 = [1,2,3,4, [44,55,66, True], False, (34,56,78,89,34), {1,2,3,3,2,1}, {1:34, \"key2\": [55, 67, 78, 89], 4: (45,22, 61, 34)}, [56, 'data science'], 'Machine Learning']"
   ]
  },
  {
   "cell_type": "code",
   "execution_count": 11,
   "id": "e5571e5c-291a-4565-9160-e7be5835c5b4",
   "metadata": {},
   "outputs": [],
   "source": [
    "def flattenlist(l):\n",
    "    l1=[]\n",
    "    for i in l:\n",
    "        if type(i)==list or type(i)==tuple or type(i)==set:\n",
    "            for j in i:\n",
    "                l1.append(j)\n",
    "        elif type(i)==dict:\n",
    "            for key,value in i.items():\n",
    "                l1.append(key)\n",
    "                if isinstance (value, (list, tuple)):\n",
    "                    for m in range(0,len(value)):\n",
    "                        l1.append(value[m])\n",
    "        else:\n",
    "            l1.append(i)\n",
    "        \n",
    "    prod=1\n",
    "    for i in l1:\n",
    "        if type(i)==int:\n",
    "            prod = prod*i\n",
    "    return prod"
   ]
  },
  {
   "cell_type": "code",
   "execution_count": 12,
   "id": "495d370c-ef0e-4f63-9cc2-4548b0b2c601",
   "metadata": {},
   "outputs": [
    {
     "data": {
      "text/plain": [
       "121609171734914278789230624768000"
      ]
     },
     "execution_count": 12,
     "metadata": {},
     "output_type": "execute_result"
    }
   ],
   "source": [
    "flattenlist(list1)"
   ]
  },
  {
   "cell_type": "code",
   "execution_count": 13,
   "id": "40f66af5-98b8-40bf-b643-08027733ed77",
   "metadata": {},
   "outputs": [],
   "source": [
    "#Q2. Write a python program for encrypting a message sent to you by your friend. The logic of encryption\n",
    "#should be such that, for a the output should be z. For b, the output should be y. For c, the output should\n",
    "#be x respectively. Also, the whitespace should be replaced with a dollar sign. Keep the punctuation\n",
    "#marks unchanged.\n",
    "\n",
    "#Input Sentence: I want to become a Data Scientist.\n",
    "#Encrypt the above input sentence using the program you just created.\n",
    "\n",
    "#Note: Convert the given input sentence into lowercase before encrypting. The final output should be\n",
    "#lowercase."
   ]
  },
  {
   "cell_type": "code",
   "execution_count": 6,
   "id": "4794d85d-73c5-4f7d-bb9b-7c021a8bb326",
   "metadata": {},
   "outputs": [
    {
     "name": "stdin",
     "output_type": "stream",
     "text": [
      "Enter the message to be encrypted: I want to become a Data Scientist.\n"
     ]
    },
    {
     "name": "stdout",
     "output_type": "stream",
     "text": [
      "Encrypted Message is  r$dzmg$gl$yvxlnv$z$wzgz$hxrvmgrhg.\n"
     ]
    }
   ],
   "source": [
    "msg = input(\"Enter the message to be encrypted:\")\n",
    "msg = msg.lower()\n",
    "encryp = []\n",
    "alphabets = ['z','y','x','w','v','u','t','s','r','q','p','o','n','m','l','k','j','i','h','g','f','e','d','c','b','a']\n",
    "length = len(alphabets)\n",
    "for i in msg:\n",
    "    if i == \" \":\n",
    "        encryp.append('$')\n",
    "    elif i.isalpha()==True:\n",
    "        for j in range(0, 26):\n",
    "            if i==alphabets[j]:\n",
    "                encryp.append(alphabets[length-j-1])\n",
    "            else:\n",
    "                continue\n",
    "    else:\n",
    "        encryp.append(i)\n",
    "print(\"Encrypted Message is \", \"\".join(encryp))     "
   ]
  },
  {
   "cell_type": "code",
   "execution_count": null,
   "id": "289e4572-5b79-4439-bd44-f069d1c949b3",
   "metadata": {},
   "outputs": [],
   "source": []
  }
 ],
 "metadata": {
  "kernelspec": {
   "display_name": "Python 3 (ipykernel)",
   "language": "python",
   "name": "python3"
  },
  "language_info": {
   "codemirror_mode": {
    "name": "ipython",
    "version": 3
   },
   "file_extension": ".py",
   "mimetype": "text/x-python",
   "name": "python",
   "nbconvert_exporter": "python",
   "pygments_lexer": "ipython3",
   "version": "3.10.8"
  }
 },
 "nbformat": 4,
 "nbformat_minor": 5
}
