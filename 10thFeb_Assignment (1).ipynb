{
 "cells": [
  {
   "cell_type": "code",
   "execution_count": 1,
   "id": "c517c77d-3164-4db9-a080-3469587535d3",
   "metadata": {},
   "outputs": [
    {
     "data": {
      "text/plain": [
       "'Q1. Which function is used to open a file? What are the different modes of opening a file? Explain each mode\\nof file opening.'"
      ]
     },
     "execution_count": 1,
     "metadata": {},
     "output_type": "execute_result"
    }
   ],
   "source": [
    "'''Q1. Which function is used to open a file? What are the different modes of opening a file? Explain each mode\n",
    "of file opening.'''"
   ]
  },
  {
   "cell_type": "code",
   "execution_count": 4,
   "id": "d65ae6d4-b0f6-465b-9c25-3a864736815d",
   "metadata": {},
   "outputs": [
    {
     "data": {
      "text/plain": [
       "'Ans: The function used to open a file is called open(). The syntax is variable=open(\"filename.txt\",\"mode\"). There are various modes of opening a file which defines the use of opening the file. The modes are as follows: r for read, w for write, a for append, x for creating a new file and opening it, b for binary mode, t for text mode, + for reading and writing and U for universal newline mode'"
      ]
     },
     "execution_count": 4,
     "metadata": {},
     "output_type": "execute_result"
    }
   ],
   "source": [
    "'''Ans: The function used to open a file is called open(). The syntax is variable=open(\"filename.txt\",\"mode\"). There are various modes of opening a file which defines the use of opening the file. The modes are as follows: r for read, w for write, a for append, x for creating a new file and opening it, b for binary mode, t for text mode, + for reading and writing and U for universal newline mode'''"
   ]
  },
  {
   "cell_type": "code",
   "execution_count": 5,
   "id": "b60a7fc9-5e9c-4633-be99-5c2f49786698",
   "metadata": {},
   "outputs": [],
   "source": [
    "#Q2. Why close() function is used? Why is it important to close a file?"
   ]
  },
  {
   "cell_type": "code",
   "execution_count": 1,
   "id": "4c0422cd-39e1-4b78-85b7-257efbf92d65",
   "metadata": {},
   "outputs": [
    {
     "data": {
      "text/plain": [
       "'Ans: close() function is used to close a file once opened and work done on it. It is important to close a file because \\n1) Without closing them we may risk reaching the open limit \\n2) Loss of Data\\n3) Any changes to files done will not be readable until after the files are closed\\n4) Potential Bugs'"
      ]
     },
     "execution_count": 1,
     "metadata": {},
     "output_type": "execute_result"
    }
   ],
   "source": [
    "'''Ans: close() function is used to close a file once opened and work done on it. It is important to close a file because \n",
    "1) Without closing them we may risk reaching the open limit \n",
    "2) Loss of Data\n",
    "3) Any changes to files done will not be readable until after the files are closed\n",
    "4) Potential Bugs'''"
   ]
  },
  {
   "cell_type": "code",
   "execution_count": 2,
   "id": "cdd83b76-f376-4d8c-83eb-1e80b1fac3d3",
   "metadata": {},
   "outputs": [
    {
     "data": {
      "text/plain": [
       "'Q3. Write a python program to create a text file. Write ‘I want to become a Data Scientist’ in that file. Then\\nclose the file. Open this file and read the content of the file.'"
      ]
     },
     "execution_count": 2,
     "metadata": {},
     "output_type": "execute_result"
    }
   ],
   "source": [
    "'''Q3. Write a python program to create a text file. Write ‘I want to become a Data Scientist’ in that file. Then\n",
    "close the file. Open this file and read the content of the file.'''"
   ]
  },
  {
   "cell_type": "code",
   "execution_count": 3,
   "id": "bb192350-def9-4d98-b19f-21cdb713b008",
   "metadata": {},
   "outputs": [],
   "source": [
    "f=open(\"newfile.txt\", \"w\")"
   ]
  },
  {
   "cell_type": "code",
   "execution_count": 4,
   "id": "50bec0b4-8564-452b-9d37-3688c2dd557d",
   "metadata": {},
   "outputs": [
    {
     "data": {
      "text/plain": [
       "33"
      ]
     },
     "execution_count": 4,
     "metadata": {},
     "output_type": "execute_result"
    }
   ],
   "source": [
    "f.write(\"I want to become a Data Scientist\")"
   ]
  },
  {
   "cell_type": "code",
   "execution_count": 5,
   "id": "46a20b53-5b93-4d90-bffb-375e61efee54",
   "metadata": {},
   "outputs": [],
   "source": [
    "f.close()"
   ]
  },
  {
   "cell_type": "code",
   "execution_count": 7,
   "id": "e7d0a37d-9732-42e0-ad66-6fd4adcc5de8",
   "metadata": {},
   "outputs": [],
   "source": [
    "f=open(\"newfile.txt\",\"r\")"
   ]
  },
  {
   "cell_type": "code",
   "execution_count": 8,
   "id": "afdbe460-a7c8-409b-8cf8-6f04f492e2d9",
   "metadata": {},
   "outputs": [
    {
     "data": {
      "text/plain": [
       "'I want to become a Data Scientist'"
      ]
     },
     "execution_count": 8,
     "metadata": {},
     "output_type": "execute_result"
    }
   ],
   "source": [
    "f.read()"
   ]
  },
  {
   "cell_type": "code",
   "execution_count": 9,
   "id": "d1698386-68e8-4328-a9ec-13a05fd7c91b",
   "metadata": {},
   "outputs": [],
   "source": [
    "f.close()"
   ]
  },
  {
   "cell_type": "code",
   "execution_count": 10,
   "id": "e9d18990-8532-45c7-9f59-6b191d9a62b4",
   "metadata": {},
   "outputs": [],
   "source": [
    "#Q4. Explain the following with python code: read(), readline() and readlines()."
   ]
  },
  {
   "cell_type": "code",
   "execution_count": 11,
   "id": "944e03e6-7a9f-41a3-a14a-af651b214259",
   "metadata": {},
   "outputs": [],
   "source": [
    "#Ans: READ - Read method eads the entire text of a file."
   ]
  },
  {
   "cell_type": "code",
   "execution_count": 21,
   "id": "6d319b5e-5f98-4a7e-8d0d-0a917e38cbe1",
   "metadata": {},
   "outputs": [
    {
     "name": "stdout",
     "output_type": "stream",
     "text": [
      "\n"
     ]
    }
   ],
   "source": [
    "#code for read:\n",
    "with open(\"newfile.txt\", \"r\") as file:\n",
    "    print(file.read())\n"
   ]
  },
  {
   "cell_type": "code",
   "execution_count": 22,
   "id": "bb98d996-57f4-405f-8883-19f6600d3460",
   "metadata": {},
   "outputs": [],
   "source": [
    "#READLINE - Reads a single line of the file."
   ]
  },
  {
   "cell_type": "code",
   "execution_count": 23,
   "id": "d20660f4-e329-4eca-8cdd-1feb4e1299ce",
   "metadata": {},
   "outputs": [
    {
     "data": {
      "text/plain": [
       "801"
      ]
     },
     "execution_count": 23,
     "metadata": {},
     "output_type": "execute_result"
    }
   ],
   "source": [
    "f=open (\"newfile.txt\",\"w\")\n",
    "f.write(\"\"\"Data Science Masters course is highly curated and uniquely designed according to the latest industry standards. \n",
    "        This program instills students the skills essential to knowledge discovery efforts to identify standard, novel, and truly differentiated solutions and decision-making, including skills in managing, querying, analyzing, visualizing, and extracting meaning from extremely large data sets. \n",
    "        This trending program provides students with the statistical, mathematical and computational skills needed to meet the large-scale data science challenges of today's professional world. \n",
    "        You will learn all the stack required to work in data science industry including cloud infrastructure and real-time industry projects. \n",
    "        This course will be taught in Hindi language.\"\"\")\n",
    "    "
   ]
  },
  {
   "cell_type": "code",
   "execution_count": 25,
   "id": "743416cb-4444-41ca-a8a8-478f427158d2",
   "metadata": {},
   "outputs": [
    {
     "name": "stdout",
     "output_type": "stream",
     "text": [
      "Data Science Masters course is highly curated and uniquely designed according to the latest industry standards. \n",
      "\n"
     ]
    }
   ],
   "source": [
    "with open (\"newfile.txt\",\"r\") as file:\n",
    "    print(file.readline())"
   ]
  },
  {
   "cell_type": "code",
   "execution_count": 26,
   "id": "0bd44b71-324a-4f68-a0cc-daee9647369e",
   "metadata": {},
   "outputs": [],
   "source": [
    "#READLINES - Readlines reads all the lines "
   ]
  },
  {
   "cell_type": "code",
   "execution_count": 27,
   "id": "3c8307fc-681e-431f-97ad-366f1a7f1386",
   "metadata": {},
   "outputs": [
    {
     "name": "stdout",
     "output_type": "stream",
     "text": [
      "['Data Science Masters course is highly curated and uniquely designed according to the latest industry standards. \\n', '        This program instills students the skills essential to knowledge discovery efforts to identify standard, novel, and truly differentiated solutions and decision-making, including skills in managing, querying, analyzing, visualizing, and extracting meaning from extremely large data sets. \\n', \"        This trending program provides students with the statistical, mathematical and computational skills needed to meet the large-scale data science challenges of today's professional world. \\n\", '        You will learn all the stack required to work in data science industry including cloud infrastructure and real-time industry projects. \\n', '        This course will be taught in Hindi language.']\n"
     ]
    }
   ],
   "source": [
    "with open (\"newfile.txt\",\"r\") as file:\n",
    "    print(file.readlines())"
   ]
  },
  {
   "cell_type": "code",
   "execution_count": 29,
   "id": "7abfba83-4cad-4a27-baea-6ceeb619a1e2",
   "metadata": {},
   "outputs": [
    {
     "data": {
      "text/plain": [
       "'Q5. Explain why with statement is used with open(). What is the advantage of using with statement and\\nopen() together?'"
      ]
     },
     "execution_count": 29,
     "metadata": {},
     "output_type": "execute_result"
    }
   ],
   "source": [
    "'''Q5. Explain why with statement is used with open(). What is the advantage of using with statement and\n",
    "open() together?'''"
   ]
  },
  {
   "cell_type": "code",
   "execution_count": 30,
   "id": "60149c5d-525e-4e2c-8ca0-e85aa1438393",
   "metadata": {},
   "outputs": [
    {
     "data": {
      "text/plain": [
       "'Ans: The with statement works with the open() function to open a file. Unlike open() where you have to close the file with the close() method, the with statement closes the file for you without you telling it to. '"
      ]
     },
     "execution_count": 30,
     "metadata": {},
     "output_type": "execute_result"
    }
   ],
   "source": [
    "'''Ans: The with statement works with the open() function to open a file. Unlike open() where you have to close the file with the close() method, the with statement closes the file for you without you telling it to. '''"
   ]
  },
  {
   "cell_type": "code",
   "execution_count": 31,
   "id": "492a72e2-2d50-4a2c-98a8-ca50c956dc66",
   "metadata": {},
   "outputs": [],
   "source": [
    "#Q6. Explain the write() and writelines() functions. Give a suitable example."
   ]
  },
  {
   "cell_type": "code",
   "execution_count": 36,
   "id": "76b433a4-ac3d-47a5-a069-8dc60d4ba1eb",
   "metadata": {},
   "outputs": [
    {
     "data": {
      "text/plain": [
       "'Ans: WRITE - The write method writes the content in the file without adding any extra characters.\\nWRITELINES - writes the content of a list to a file. Just like write, this also truncates and adds'"
      ]
     },
     "execution_count": 36,
     "metadata": {},
     "output_type": "execute_result"
    }
   ],
   "source": [
    "'''Ans: WRITE - The write method writes the content in the file without adding any extra characters.\n",
    "WRITELINES - writes the content of a list to a file. Just like write, this also truncates and adds'''"
   ]
  },
  {
   "cell_type": "code",
   "execution_count": 34,
   "id": "8211d9b5-e0a7-4be3-a672-d99bd86e1735",
   "metadata": {},
   "outputs": [
    {
     "name": "stdin",
     "output_type": "stream",
     "text": [
      "Enter the name of the employee:  Sudh\n",
      "Enter the name of the employee:  Krish\n",
      "Enter the name of the employee:  Kriti\n"
     ]
    },
    {
     "name": "stdout",
     "output_type": "stream",
     "text": [
      "Data is written into the file.\n"
     ]
    }
   ],
   "source": [
    "#WRITE\n",
    "\n",
    "file = open(\"Employees.txt\", \"w\")\n",
    "  \n",
    "for i in range(3):\n",
    "   name = input(\"Enter the name of the employee: \")\n",
    "   file.write(name)\n",
    "   file.write(\"\\n\")\n",
    "     \n",
    "file.close()\n",
    "  \n",
    "print(\"Data is written into the file.\")"
   ]
  },
  {
   "cell_type": "code",
   "execution_count": 35,
   "id": "4074c246-e256-4369-ab8c-b8958d4d0836",
   "metadata": {},
   "outputs": [
    {
     "name": "stdin",
     "output_type": "stream",
     "text": [
      "Enter the name of the employee:  Lokesh\n",
      "Enter the name of the employee:  Mukesh\n",
      "Enter the name of the employee:  Rakesh\n"
     ]
    },
    {
     "name": "stdout",
     "output_type": "stream",
     "text": [
      "Data is written into the file.\n"
     ]
    }
   ],
   "source": [
    "#WRITELINES:\n",
    "\n",
    "file1 = open(\"Employees.txt\", \"w\")\n",
    "lst = []\n",
    "for i in range(3):\n",
    "    name = input(\"Enter the name of the employee: \")\n",
    "    lst.append(name + '\\n')\n",
    "      \n",
    "file1.writelines(lst)\n",
    "file1.close()\n",
    "print(\"Data is written into the file.\") "
   ]
  },
  {
   "cell_type": "code",
   "execution_count": null,
   "id": "d52f840d-fef8-4eec-a9af-1d685c94a005",
   "metadata": {},
   "outputs": [],
   "source": []
  }
 ],
 "metadata": {
  "kernelspec": {
   "display_name": "Python 3 (ipykernel)",
   "language": "python",
   "name": "python3"
  },
  "language_info": {
   "codemirror_mode": {
    "name": "ipython",
    "version": 3
   },
   "file_extension": ".py",
   "mimetype": "text/x-python",
   "name": "python",
   "nbconvert_exporter": "python",
   "pygments_lexer": "ipython3",
   "version": "3.10.8"
  }
 },
 "nbformat": 4,
 "nbformat_minor": 5
}
