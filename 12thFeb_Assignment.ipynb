{
 "cells": [
  {
   "cell_type": "code",
   "execution_count": 2,
   "id": "376eb109-5d0e-49bb-85f5-9d69498926fd",
   "metadata": {},
   "outputs": [],
   "source": [
    "#Q1. What is an Exception in python? Write the difference between Exceptions and Syntax errors"
   ]
  },
  {
   "cell_type": "code",
   "execution_count": 5,
   "id": "77b1f553-3639-4da6-b395-a123809d8a29",
   "metadata": {},
   "outputs": [
    {
     "data": {
      "text/plain": [
       "'Ans: An error stops the execution of code. Exceptions are raised when some internal events occur which change the normal flow of the program. Handling exception does not stop the rest of the code from being executed. \\nA syntax error is an issue in a program that prevents the program from completing its task. In comparison, an exception is a condition that interrupts the normal flow of the program.'"
      ]
     },
     "execution_count": 5,
     "metadata": {},
     "output_type": "execute_result"
    }
   ],
   "source": [
    "'''Ans: An error stops the execution of code. Exceptions are raised when some internal events occur which change the normal flow of the program. Handling exception does not stop the rest of the code from being executed. \n",
    "A syntax error is an issue in a program that prevents the program from completing its task. In comparison, an exception is a condition that interrupts the normal flow of the program.'''"
   ]
  },
  {
   "cell_type": "code",
   "execution_count": 4,
   "id": "c6928c03-1933-4bfa-a8f3-e30e3df01d0d",
   "metadata": {},
   "outputs": [],
   "source": [
    "#Q2. What happens when an exception is not handled? Explain with an example."
   ]
  },
  {
   "cell_type": "code",
   "execution_count": 8,
   "id": "192bce39-f15c-4af8-90e7-547374f16832",
   "metadata": {},
   "outputs": [
    {
     "ename": "ZeroDivisionError",
     "evalue": "division by zero",
     "output_type": "error",
     "traceback": [
      "\u001b[0;31m---------------------------------------------------------------------------\u001b[0m",
      "\u001b[0;31mZeroDivisionError\u001b[0m                         Traceback (most recent call last)",
      "Cell \u001b[0;32mIn[8], line 6\u001b[0m\n\u001b[1;32m      1\u001b[0m \u001b[38;5;66;03m#If an exception is not handled properly, the code will not run any further. \u001b[39;00m\n\u001b[1;32m      2\u001b[0m \n\u001b[1;32m      3\u001b[0m \u001b[38;5;66;03m#Example\u001b[39;00m\n\u001b[1;32m      5\u001b[0m marks \u001b[38;5;241m=\u001b[39m \u001b[38;5;241m10000\u001b[39m\n\u001b[0;32m----> 6\u001b[0m a \u001b[38;5;241m=\u001b[39m \u001b[43mmarks\u001b[49m\u001b[43m \u001b[49m\u001b[38;5;241;43m/\u001b[39;49m\u001b[43m \u001b[49m\u001b[38;5;241;43m0\u001b[39;49m\n\u001b[1;32m      7\u001b[0m \u001b[38;5;28mprint\u001b[39m(a)\n",
      "\u001b[0;31mZeroDivisionError\u001b[0m: division by zero"
     ]
    }
   ],
   "source": [
    "#If an exception is not handled properly, the code will not run any further. \n",
    "\n",
    "#Example\n",
    "\n",
    "marks = 10000\n",
    "a = marks / 0\n",
    "print(a)"
   ]
  },
  {
   "cell_type": "code",
   "execution_count": 7,
   "id": "a74b6a0d-472f-40f2-b7a3-136916b26452",
   "metadata": {},
   "outputs": [],
   "source": [
    "#This is an exception"
   ]
  },
  {
   "cell_type": "code",
   "execution_count": 9,
   "id": "ea847490-7e93-45a1-9e81-f297e09978ee",
   "metadata": {},
   "outputs": [
    {
     "name": "stdout",
     "output_type": "stream",
     "text": [
      "division by zero\n"
     ]
    }
   ],
   "source": [
    "#Handling the exception\n",
    "marks = 10000\n",
    "try:\n",
    "    a = marks / 0\n",
    "except Exception as e:\n",
    "    print(e)\n",
    "else:\n",
    "    print(a)"
   ]
  },
  {
   "cell_type": "code",
   "execution_count": 10,
   "id": "e33e08d6-f8e7-4180-a1b5-872c1cf688a1",
   "metadata": {},
   "outputs": [],
   "source": [
    "#Q3. Which Python statements are used to catch and handle exceptions? Explain with an example"
   ]
  },
  {
   "cell_type": "code",
   "execution_count": 13,
   "id": "387bd29b-9b22-490e-9917-c84d1a631fde",
   "metadata": {},
   "outputs": [
    {
     "data": {
      "text/plain": [
       "\"Ans: The try and except block in Python is used to catch and handle exceptions. Python executes code following the try statement as a “normal” part of the program. The code that follows the except statement is the program's response to any exceptions in the try clause.\""
      ]
     },
     "execution_count": 13,
     "metadata": {},
     "output_type": "execute_result"
    }
   ],
   "source": [
    "'''Ans: The try and except block in Python is used to catch and handle exceptions. Python executes code following the try statement as a “normal” part of the program. The code that follows the except statement is the program's response to any exceptions in the try clause.'''"
   ]
  },
  {
   "cell_type": "code",
   "execution_count": 15,
   "id": "c09a25db-5b6d-4df3-b36a-3508b8554413",
   "metadata": {},
   "outputs": [
    {
     "name": "stdout",
     "output_type": "stream",
     "text": [
      "Error:  unsupported operand type(s) for +: 'int' and 'str'\n"
     ]
    }
   ],
   "source": [
    "#Example:\n",
    "\n",
    "x = 5\n",
    "y = \"hello\"\n",
    "try:\n",
    "\tz = x + y\n",
    "except Exception as e:\n",
    "\tprint(\"Error: \", e)\n"
   ]
  },
  {
   "cell_type": "code",
   "execution_count": 17,
   "id": "45cddeec-3ec4-4452-bc55-e06b4cc4a217",
   "metadata": {},
   "outputs": [],
   "source": [
    "#Q4. Explain with an example: a. try and else, b. finally, c. raise"
   ]
  },
  {
   "cell_type": "code",
   "execution_count": 2,
   "id": "77de6eb1-884d-4bcc-ba09-86fa9e657992",
   "metadata": {},
   "outputs": [
    {
     "name": "stdout",
     "output_type": "stream",
     "text": [
      "20\n",
      "There was no error\n"
     ]
    }
   ],
   "source": [
    "#a. try and else\n",
    "#The try block lets you test a block of code for errors while the else block lets you execute code when there is no error.\n",
    "\n",
    "#Example:\n",
    "\n",
    "try: \n",
    "    a=20\n",
    "    print(a)\n",
    "except Exception as e:\n",
    "    print(e)\n",
    "else:\n",
    "    print(\"There was no error\")"
   ]
  },
  {
   "cell_type": "code",
   "execution_count": 3,
   "id": "9bc7491f-8280-4cc5-8c8c-b9b60cadda56",
   "metadata": {},
   "outputs": [
    {
     "name": "stdout",
     "output_type": "stream",
     "text": [
      "20\n",
      "There was no error\n",
      "This has to be executed\n"
     ]
    }
   ],
   "source": [
    "#b. finally\n",
    "#The finally block lets you execute code, regardless of the result of the try- and except blocks.\n",
    "\n",
    "#Example:\n",
    "try: \n",
    "    a=20\n",
    "    print(a)\n",
    "except Exception as e:\n",
    "    print(e)\n",
    "else:\n",
    "    print(\"There was no error\")\n",
    "finally:\n",
    "    print(\"This has to be executed\")"
   ]
  },
  {
   "cell_type": "code",
   "execution_count": 4,
   "id": "532ec892-c2c1-453e-98fd-50629cd3e338",
   "metadata": {},
   "outputs": [
    {
     "name": "stdout",
     "output_type": "stream",
     "text": [
      "division by zero\n",
      "This has to be executed\n"
     ]
    }
   ],
   "source": [
    "#Example:\n",
    "try: \n",
    "    a=20\n",
    "    print(a/0)\n",
    "except Exception as e:\n",
    "    print(e)\n",
    "else:\n",
    "    print(\"There was no error\")\n",
    "finally:\n",
    "    print(\"This has to be executed\")"
   ]
  },
  {
   "cell_type": "code",
   "execution_count": 11,
   "id": "f4f24253-b255-44ec-9bc7-37563f150b7d",
   "metadata": {},
   "outputs": [
    {
     "name": "stdin",
     "output_type": "stream",
     "text": [
      "Enter marks: -5\n"
     ]
    },
    {
     "name": "stdout",
     "output_type": "stream",
     "text": [
      "error Negative\n"
     ]
    }
   ],
   "source": [
    "#c. raise\n",
    "#To throw (or raise) an exception, use the raise keyword. The raise keyword is used to raise an exception.\n",
    "\n",
    "#Example:\n",
    "class marks(Exception):\n",
    "    def __init__(self, msg):\n",
    "        self.msg=msg\n",
    "def mrks(m):\n",
    "    if m<0:\n",
    "        raise marks(\"Negative\")\n",
    "\n",
    "try:\n",
    "    m=int(input(\"Enter marks:\"))\n",
    "    mrks(m)\n",
    "except marks as e:\n",
    "    print(\"error\",e)\n",
    "    "
   ]
  },
  {
   "cell_type": "code",
   "execution_count": 12,
   "id": "abe34524-3b20-4d85-829c-78be1f42af44",
   "metadata": {},
   "outputs": [],
   "source": [
    "#Q5. What are Custom Exceptions in python? Why do we need Custom Exceptions? Explain with an example"
   ]
  },
  {
   "cell_type": "code",
   "execution_count": 18,
   "id": "27310537-68d3-45aa-8478-5ee790a35fd9",
   "metadata": {},
   "outputs": [
    {
     "name": "stdin",
     "output_type": "stream",
     "text": [
      "Enter a positive number:  -5\n"
     ]
    },
    {
     "name": "stdout",
     "output_type": "stream",
     "text": [
      "You provided -5. Please provide positive integer values only\n"
     ]
    }
   ],
   "source": [
    "'''Sometimes based on project requirement, a programmer needs to create their own exceptions and raise explicitly for corresponding scenarios. Such types of exceptions are called custom Exceptions. We can raise a custom exception by using the keyword ‘raise’.'''\n",
    "\n",
    "#Example:\n",
    "class NegativeError(Exception):\n",
    "   def __init__(self, data):\n",
    "       self.data = data\n",
    "try:\n",
    "   x = int(input(\"Enter a positive number: \"))\n",
    "   if x < 0:\n",
    "       raise NegativeError(x)\n",
    "except NegativeError as e:\n",
    "   print(\"You provided {}. Please provide positive integer values only\".format(e))"
   ]
  },
  {
   "cell_type": "code",
   "execution_count": 19,
   "id": "563b1c5b-a6f1-4374-ac29-2de6a433c422",
   "metadata": {},
   "outputs": [],
   "source": [
    "#Q6. Create custom exception class. Use this class to handle an exception."
   ]
  },
  {
   "cell_type": "code",
   "execution_count": 23,
   "id": "954b1051-d96e-480b-a88b-b249f3e9bc2c",
   "metadata": {},
   "outputs": [
    {
     "name": "stdin",
     "output_type": "stream",
     "text": [
      "Enter Age: 50\n"
     ]
    },
    {
     "name": "stdout",
     "output_type": "stream",
     "text": [
      "You will get match details soon by email!!!\n"
     ]
    }
   ],
   "source": [
    "class TooYoungException(Exception):\n",
    "   def __init__(self, arg):\n",
    "       self.msg=arg\n",
    "class TooOldException(Exception):\n",
    "   def __init__(self, arg):\n",
    "       self.msg=arg\n",
    "age=int(input(\"Enter Age:\"))\n",
    "if age>60:\n",
    "   raise TooOldException(\"Your age already crossed marriage age...no chance of getting marriage\")\n",
    "elif age<18:\n",
    "   raise TooYoungException(\"Plz wait some more time you will get best match soon!!!\")\n",
    "else:\n",
    "   print(\"You will get match details soon by email!!!\")"
   ]
  },
  {
   "cell_type": "code",
   "execution_count": null,
   "id": "4028f32f-9014-4fef-9cda-c077b8f9033f",
   "metadata": {},
   "outputs": [],
   "source": []
  }
 ],
 "metadata": {
  "kernelspec": {
   "display_name": "Python 3 (ipykernel)",
   "language": "python",
   "name": "python3"
  },
  "language_info": {
   "codemirror_mode": {
    "name": "ipython",
    "version": 3
   },
   "file_extension": ".py",
   "mimetype": "text/x-python",
   "name": "python",
   "nbconvert_exporter": "python",
   "pygments_lexer": "ipython3",
   "version": "3.10.8"
  }
 },
 "nbformat": 4,
 "nbformat_minor": 5
}
