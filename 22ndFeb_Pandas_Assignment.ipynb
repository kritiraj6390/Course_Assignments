{
 "cells": [
  {
   "cell_type": "code",
   "execution_count": 1,
   "id": "23d6a28e-7f21-46f0-bd04-e2f8d8548886",
   "metadata": {},
   "outputs": [],
   "source": [
    "#Q1. Create a Pandas Series that contains the following data: 4, 8, 15, 16, 23, and 42. Then, print the series."
   ]
  },
  {
   "cell_type": "code",
   "execution_count": 2,
   "id": "b71d1c07-9623-4a9c-b5c4-c9713e78f46a",
   "metadata": {},
   "outputs": [
    {
     "name": "stdout",
     "output_type": "stream",
     "text": [
      "Requirement already satisfied: pandas in /opt/conda/lib/python3.10/site-packages (1.5.2)\n",
      "Requirement already satisfied: python-dateutil>=2.8.1 in /opt/conda/lib/python3.10/site-packages (from pandas) (2.8.2)\n",
      "Requirement already satisfied: pytz>=2020.1 in /opt/conda/lib/python3.10/site-packages (from pandas) (2022.6)\n",
      "Requirement already satisfied: numpy>=1.21.0 in /opt/conda/lib/python3.10/site-packages (from pandas) (1.23.5)\n",
      "Requirement already satisfied: six>=1.5 in /opt/conda/lib/python3.10/site-packages (from python-dateutil>=2.8.1->pandas) (1.16.0)\n",
      "Note: you may need to restart the kernel to use updated packages.\n"
     ]
    }
   ],
   "source": [
    "pip install pandas"
   ]
  },
  {
   "cell_type": "code",
   "execution_count": 3,
   "id": "255eb2d3-b76b-4154-927c-44ecfe30eb4a",
   "metadata": {},
   "outputs": [],
   "source": [
    "import pandas as pd"
   ]
  },
  {
   "cell_type": "code",
   "execution_count": 7,
   "id": "6b5b87df-fbc2-47bb-9aaa-62ca6c660d7f",
   "metadata": {},
   "outputs": [],
   "source": [
    "data = 4, 8, 15, 16, 23, 42\n",
    "series = pd.Series(data)"
   ]
  },
  {
   "cell_type": "code",
   "execution_count": 8,
   "id": "5e11bff4-d30e-43b2-9662-364c6b7af41d",
   "metadata": {},
   "outputs": [
    {
     "name": "stdout",
     "output_type": "stream",
     "text": [
      "0     4\n",
      "1     8\n",
      "2    15\n",
      "3    16\n",
      "4    23\n",
      "5    42\n",
      "dtype: int64\n"
     ]
    }
   ],
   "source": [
    "print(series)"
   ]
  },
  {
   "cell_type": "code",
   "execution_count": 9,
   "id": "f10c764b-8978-4105-a01f-66b39d2bf5ee",
   "metadata": {},
   "outputs": [],
   "source": [
    "#Q2. Create a variable of list type containing 10 elements in it, and apply pandas.Series function on the\n",
    "#variable print it."
   ]
  },
  {
   "cell_type": "code",
   "execution_count": 11,
   "id": "98ab60b7-d937-42d8-9a07-2e3e4c61b3f3",
   "metadata": {},
   "outputs": [
    {
     "name": "stdout",
     "output_type": "stream",
     "text": [
      "0        Data\n",
      "1     Science\n",
      "2          is\n",
      "3         fun\n",
      "4         and\n",
      "5           I\n",
      "6        love\n",
      "7    learning\n",
      "8        from\n",
      "9    pwskills\n",
      "dtype: object\n"
     ]
    }
   ],
   "source": [
    "l = ['Data','Science','is','fun','and','I','love','learning','from','pwskills']\n",
    "print(pd.Series(l))"
   ]
  },
  {
   "cell_type": "code",
   "execution_count": 13,
   "id": "074e3c22-c8a2-4d14-81e1-3902aebc91ca",
   "metadata": {},
   "outputs": [],
   "source": [
    "#Q3. Create a Pandas DataFrame that contains the following data. Then, print the DataFrame.:\n",
    "\n",
    "#data from question"
   ]
  },
  {
   "cell_type": "code",
   "execution_count": 15,
   "id": "f1d440e9-5547-4d9f-b512-b9b3234a284f",
   "metadata": {},
   "outputs": [],
   "source": [
    "df = {'Name':['Alice', 'Bob', 'Claire'],\n",
    "      'Age': [25, 30, 27],\n",
    "      'Gender': ['Female', 'Male', 'Female']\n",
    "}"
   ]
  },
  {
   "cell_type": "code",
   "execution_count": 18,
   "id": "8b4df178-f034-4053-9dc9-0cf4d82a13b7",
   "metadata": {},
   "outputs": [],
   "source": [
    "df1 = pd.DataFrame(df)"
   ]
  },
  {
   "cell_type": "code",
   "execution_count": 19,
   "id": "083864f7-d38f-4e6b-b93a-138685ffeaea",
   "metadata": {},
   "outputs": [
    {
     "name": "stdout",
     "output_type": "stream",
     "text": [
      "     Name  Age  Gender\n",
      "0   Alice   25  Female\n",
      "1     Bob   30    Male\n",
      "2  Claire   27  Female\n"
     ]
    }
   ],
   "source": [
    "print(df1)"
   ]
  },
  {
   "cell_type": "code",
   "execution_count": 20,
   "id": "e8d74b45-65ce-40e4-87f9-c495dfa9db73",
   "metadata": {},
   "outputs": [],
   "source": [
    "#Q4. What is ‘DataFrame’ in pandas and how is it different from pandas.series? Explain with an example."
   ]
  },
  {
   "cell_type": "code",
   "execution_count": 21,
   "id": "5656eede-890e-4c52-8ee9-b6fdc3424973",
   "metadata": {},
   "outputs": [],
   "source": [
    "#Panda series is a one dimentional array i.e. a single list which can store heterogeneous type of data while DataFrame is a two dimentional array, i.e it contains multiple lists of heterogeneous type of data.\n",
    "\n",
    "#Both series and DataFrame can be created either with list or with the help of a dictionary, in case of series, there will be only one key in the dictionary but there may be multiple keys in case of DataFrame."
   ]
  },
  {
   "cell_type": "code",
   "execution_count": 22,
   "id": "2ee96d5d-6585-40dd-8415-873ff74c84cc",
   "metadata": {},
   "outputs": [],
   "source": [
    "#Q5. What are some common functions you can use to manipulate data in a Pandas DataFrame? Can\n",
    "#you give an example of when you might use one of these functions?"
   ]
  },
  {
   "cell_type": "code",
   "execution_count": 23,
   "id": "4b3cdd25-3d99-499c-b599-c681f2ea6f0b",
   "metadata": {},
   "outputs": [],
   "source": [
    "#Some common functions in Pandas DataFrame are as follows:\n",
    "\n",
    "# 1. read_csv/ read_excel function allows to read a csv/ excel file into a DataFrame\n",
    "# 2. head(n) is used to return the first n rows of a dataset. \n",
    "# 3. Columns - When you have a big dataset like that it can be hard to see all the columns. using .columns function, you can print out all the columns of the dataset\n",
    "# 4. apply() >> Used to apply a function to each item in a column\n",
    "# 5. .iloc / .loc >> used to locate a perticular item or group of item from a dataframe"
   ]
  },
  {
   "cell_type": "code",
   "execution_count": 24,
   "id": "f01e543e-d191-4d04-869c-a7a5eae340cc",
   "metadata": {},
   "outputs": [],
   "source": [
    "#Q6. Which of the following is mutable in nature Series, DataFrame, Panel?"
   ]
  },
  {
   "cell_type": "code",
   "execution_count": 25,
   "id": "1dcc2367-0956-4ac9-814d-a830a6a9d152",
   "metadata": {},
   "outputs": [],
   "source": [
    "#All Pandas data structures are value mutable (can be changed) and except Series all are size mutable. Series is size immutable."
   ]
  },
  {
   "cell_type": "code",
   "execution_count": 26,
   "id": "f70bcb9e-0790-4ad9-978a-9d499daa082f",
   "metadata": {},
   "outputs": [],
   "source": [
    "#Q7. Create a DataFrame using multiple Series. Explain with an example."
   ]
  },
  {
   "cell_type": "code",
   "execution_count": 27,
   "id": "7d7c5bcd-1339-47cd-929c-95e14cbc7f4c",
   "metadata": {},
   "outputs": [
    {
     "data": {
      "text/html": [
       "<div>\n",
       "<style scoped>\n",
       "    .dataframe tbody tr th:only-of-type {\n",
       "        vertical-align: middle;\n",
       "    }\n",
       "\n",
       "    .dataframe tbody tr th {\n",
       "        vertical-align: top;\n",
       "    }\n",
       "\n",
       "    .dataframe thead th {\n",
       "        text-align: right;\n",
       "    }\n",
       "</style>\n",
       "<table border=\"1\" class=\"dataframe\">\n",
       "  <thead>\n",
       "    <tr style=\"text-align: right;\">\n",
       "      <th></th>\n",
       "      <th>l1</th>\n",
       "      <th>l2</th>\n",
       "      <th>l3</th>\n",
       "    </tr>\n",
       "  </thead>\n",
       "  <tbody>\n",
       "    <tr>\n",
       "      <th>0</th>\n",
       "      <td>1</td>\n",
       "      <td>7</td>\n",
       "      <td>4</td>\n",
       "    </tr>\n",
       "    <tr>\n",
       "      <th>1</th>\n",
       "      <td>3</td>\n",
       "      <td>3</td>\n",
       "      <td>6</td>\n",
       "    </tr>\n",
       "    <tr>\n",
       "      <th>2</th>\n",
       "      <td>5</td>\n",
       "      <td>7</td>\n",
       "      <td>8</td>\n",
       "    </tr>\n",
       "    <tr>\n",
       "      <th>3</th>\n",
       "      <td>6</td>\n",
       "      <td>9</td>\n",
       "      <td>2</td>\n",
       "    </tr>\n",
       "    <tr>\n",
       "      <th>4</th>\n",
       "      <td>7</td>\n",
       "      <td>3</td>\n",
       "      <td>3</td>\n",
       "    </tr>\n",
       "    <tr>\n",
       "      <th>5</th>\n",
       "      <td>8</td>\n",
       "      <td>2</td>\n",
       "      <td>5</td>\n",
       "    </tr>\n",
       "    <tr>\n",
       "      <th>6</th>\n",
       "      <td>9</td>\n",
       "      <td>8</td>\n",
       "      <td>7</td>\n",
       "    </tr>\n",
       "    <tr>\n",
       "      <th>7</th>\n",
       "      <td>3</td>\n",
       "      <td>2</td>\n",
       "      <td>9</td>\n",
       "    </tr>\n",
       "  </tbody>\n",
       "</table>\n",
       "</div>"
      ],
      "text/plain": [
       "   l1  l2  l3\n",
       "0   1   7   4\n",
       "1   3   3   6\n",
       "2   5   7   8\n",
       "3   6   9   2\n",
       "4   7   3   3\n",
       "5   8   2   5\n",
       "6   9   8   7\n",
       "7   3   2   9"
      ]
     },
     "execution_count": 27,
     "metadata": {},
     "output_type": "execute_result"
    }
   ],
   "source": [
    "l1 = [1,3,5,6,7,8,9,3]\n",
    "l2 = [7,3,7,9,3,2,8,2]\n",
    "l3 = [4,6,8,2,3,5,7,9]\n",
    "\n",
    "df = pd.DataFrame()\n",
    "df[\"l1\"]=pd.Series(l1)\n",
    "df[\"l2\"]=pd.Series(l2)\n",
    "df[\"l3\"]=pd.Series(l3)\n",
    "\n",
    "df"
   ]
  },
  {
   "cell_type": "code",
   "execution_count": null,
   "id": "9915ec30-f428-4149-ac66-3a5dba513e09",
   "metadata": {},
   "outputs": [],
   "source": []
  }
 ],
 "metadata": {
  "kernelspec": {
   "display_name": "Python 3 (ipykernel)",
   "language": "python",
   "name": "python3"
  },
  "language_info": {
   "codemirror_mode": {
    "name": "ipython",
    "version": 3
   },
   "file_extension": ".py",
   "mimetype": "text/x-python",
   "name": "python",
   "nbconvert_exporter": "python",
   "pygments_lexer": "ipython3",
   "version": "3.10.8"
  }
 },
 "nbformat": 4,
 "nbformat_minor": 5
}
