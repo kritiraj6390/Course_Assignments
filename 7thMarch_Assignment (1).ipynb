{
 "cells": [
  {
   "cell_type": "code",
   "execution_count": 1,
   "id": "e169b805-4299-4bac-8d5e-6325c3d45bc7",
   "metadata": {},
   "outputs": [],
   "source": [
    "#Q1. What are the three measures of central tendency?"
   ]
  },
  {
   "cell_type": "code",
   "execution_count": 2,
   "id": "975175b2-40cc-4c64-8e8f-f52119bb631b",
   "metadata": {},
   "outputs": [],
   "source": [
    "# Mean: The arithmetic mean is the sum of all values in a dataset divided by the number of values. It represents the \"average\" value in the dataset.\n",
    "\n",
    "# Median: The median is the middle value in a dataset when the values are arranged in order. It is less sensitive to outliers than the mean and can be a better measure of central tendency for skewed datasets.\n",
    "\n",
    "# Mode: The mode is the most common value in a dataset. It can be used to describe the most frequent value or category in a dataset."
   ]
  },
  {
   "cell_type": "code",
   "execution_count": 3,
   "id": "07986ded-54e2-433a-b1a9-6ed69153f915",
   "metadata": {},
   "outputs": [],
   "source": [
    "#Q2. What is the difference between the mean, median, and mode? How are they used to measure the central tendency of a dataset?"
   ]
  },
  {
   "cell_type": "code",
   "execution_count": 4,
   "id": "c9bbde37-bfeb-49d0-aeb4-c840a2760fac",
   "metadata": {},
   "outputs": [],
   "source": [
    "# Mean, median, and mode are measures of central tendency used to describe the center of a dataset. Here are the differences between them and how they are used:\n",
    "\n",
    "# Mean: The mean is the sum of all values in a dataset divided by the number of values. It represents the \"average\" value in the dataset. The mean is commonly used to describe the central tendency of a dataset, especially when the data is normally distributed.\n",
    "\n",
    "# Median: The median is the middle value in a dataset when the values are arranged in order. It is less sensitive to outliers than the mean and can be a better measure of central tendency for skewed datasets. The median is used when the data contains outliers or is not normally distributed.\n",
    "\n",
    "# Mode: The mode is the most common value in a dataset. It can be used to describe the most frequent value or category in a dataset. The mode is used to describe the most frequently occurring value in the data."
   ]
  },
  {
   "cell_type": "code",
   "execution_count": 5,
   "id": "6ca990e9-3726-46c2-ae31-9aa2950094f2",
   "metadata": {},
   "outputs": [],
   "source": [
    "#Q3. Measure the three measures of central tendency for the given height data:\n",
    "#[178, 177, 176, 177, 178.2, 178, 175, 179, 180,175, 178.9, 176.2, 177, 172.5, 178, 176.5]"
   ]
  },
  {
   "cell_type": "code",
   "execution_count": 6,
   "id": "be6164e8-201a-45dd-b7cf-6c1ab5b974a7",
   "metadata": {},
   "outputs": [],
   "source": [
    "# Mean = (178 + 177 + 176 + 177 + 178.2 + 178 + 175 + 179 + 180 +\n",
    "#         175 + 178.9 + 176.2 + 177 + 172.5 + 178 + 176.5) / 16\n",
    "\n",
    "# Mean = 177.65625\n",
    "\n",
    "\n",
    "# Median:\n",
    "# To find the median, we first need to sort the data in ascending order:\n",
    "\n",
    "# 172.5, 175, 175, 176, 176.2, 176.5, 177, 177, 178, 178, 178, 178.2, 178.9, 179, 180\n",
    "\n",
    "# There are 16 values in the dataset, so the median is the average of the two middle values, which are 177 and 178.\n",
    "\n",
    "# Median = (177 + 178) / 2\n",
    "\n",
    "# Median = 177.5\n",
    "\n",
    "# Therefore, the median height is 177.5.\n",
    "\n",
    "# Mode:\n",
    "# To find the mode, we need to look for the value that appears most frequently in the dataset. In this case, there is no single value that appears more than once, so there is no mode.\n",
    "\n",
    "# Therefore, the dataset has no mode."
   ]
  },
  {
   "cell_type": "code",
   "execution_count": 7,
   "id": "b1b484ab-b544-44c8-8cf4-5c36bede8cf2",
   "metadata": {},
   "outputs": [],
   "source": [
    "#Q4. Find the standard deviation for the given data:\n",
    "#[178, 177, 176, 177, 178.2, 178, 175, 179, 180, 175, 178.9, 176.2, 177, 172.5, 178, 176.5]"
   ]
  },
  {
   "cell_type": "code",
   "execution_count": 8,
   "id": "4f94c6c4-1423-4f7e-b2d8-fd38e4ef3233",
   "metadata": {},
   "outputs": [],
   "source": [
    "# To find the standard deviation for the given data, we can use the following formula:\n",
    "\n",
    "# s = sqrt((1/n) * Σ(xi - x̄) ^ 2)\n",
    "\n",
    "# where s is the standard deviation, n is the number of observations, xi is each observation, x̄ is the mean of the observations, and Σ is the summation symbol.\n",
    "\n",
    "# First, we need to find the mean of the observations:\n",
    "\n",
    "# x̄ = (178 + 177 + 176 + 177 + 178.2 + 178 + 175 + 179 + 180 +\n",
    "#       175 + 178.9 + 176.2 + 177 + 172.5 + 178 + 176.5) / 16\n",
    "\n",
    "# x̄ = 177.65625\n",
    "\n",
    "# Next, we need to calculate the deviation of each observation from the mean:\n",
    "\n",
    "# xi - x̄:\n",
    "\n",
    "# 0.34375, -0.65625, -1.65625, -0.65625, 0.54375, 0.34375, -2.65625, 1.34375, 2.34375, - \\\n",
    "#     2.65625, 1.24375, -1.45625, -0.65625, -5.15625, 0.34375, -1.15625\n",
    "\n",
    "# Then, we need to square each deviation:\n",
    "\n",
    "# (xi - x̄) ^ 2:\n",
    "\n",
    "# 0.1181640625, 0.4306640625, 2.73828125, 0.4306640625, 0.2958984375, 0.1181640625, 7.0654296875, 1.8046875, 5.478515625, 7.0654296875, 1.548828125, 2.1181640625, 0.4306640625, 26.576171875, 0.1181640625, 1.333984375\n",
    "\n",
    "# We then take the sum of the squared deviations:\n",
    "\n",
    "# Σ(xi - x̄) ^ 2 = 57.24609375\n",
    "\n",
    "# Next, we divide the sum of squared deviations by the number of observations:\n",
    "\n",
    "# (1/n) * Σ(xi - x̄) ^ 2 = (1/16) * 57.24609375\n",
    "\n",
    "# (1/n) * Σ(xi - x̄) ^ 2 = 3.578046875\n",
    "\n",
    "# Finally, we take the square root of the result to get the standard deviation:\n",
    "\n",
    "# s = sqrt(3.578046875)\n",
    "\n",
    "# s = 1.892430659\n",
    "\n",
    "# Therefore, the standard deviation for the given data is approximately 1.89."
   ]
  },
  {
   "cell_type": "code",
   "execution_count": 9,
   "id": "ed0f0b8e-e257-4f65-9516-91f0790bb305",
   "metadata": {},
   "outputs": [],
   "source": [
    "#Q5. How are measures of dispersion such as range, variance, and standard deviation used to describe the spread of a dataset? Provide an example."
   ]
  },
  {
   "cell_type": "code",
   "execution_count": 10,
   "id": "5e82f6e9-c2dc-49e2-b8c6-d9e2d25c2779",
   "metadata": {},
   "outputs": [],
   "source": [
    "# Measures of dispersion such as range, variance, and standard deviation are used to describe the spread or variability of a dataset. These measures indicate how spread out the values are from the central tendency of the data.\n",
    "\n",
    "# Range is the simplest measure of dispersion and is the difference between the largest and smallest value in a dataset. It gives a rough estimate of how spread out the data is , but it is highly sensitive to outliers.\n",
    "\n",
    "# Variance is a more precise measure of dispersion that takes into account the differences between each data point and the mean of the dataset. To calculate variance, you square the difference between each data point and the mean, sum up these squared differences, and then divide by the number of data points. Variance is useful because it penalizes outliers more heavily than range.\n",
    "\n",
    "# Standard deviation is the square root of the variance and is perhaps the most commonly used measure of dispersion. It has the same units as the data and is a measure of how far the data deviates from the mean. Standard deviation is useful because it gives a more precise measure of the spread of the data and is less sensitive to outliers than the range.\n",
    "\n",
    "# For example, let's consider two datasets:\n",
    "\n",
    "# Dataset 1: [1, 2, 3, 4, 5]\n",
    "\n",
    "# Dataset 2: [1, 2, 3, 100, 101]\n",
    "\n",
    "# The mean of both datasets is 3, but their dispersion is very different. The range of dataset 1 is 4 (5 - 1), while the range of dataset 2 is 100 (101 - 1), which shows that dataset 2 is more spread out. The variance of dataset 1 is 2.5, while the variance of dataset 2 is 2476.5, which again shows that dataset 2 is more spread out. Finally, the standard deviation of dataset 1 is approximately 1.58, while the standard deviation of dataset 2 is approximately 49.77, which once again shows that dataset 2 is more spread out."
   ]
  },
  {
   "cell_type": "code",
   "execution_count": 11,
   "id": "0a6c3e51-2cf7-4b6b-b501-42445b562360",
   "metadata": {},
   "outputs": [],
   "source": [
    "#Q6. What is a Venn diagram?"
   ]
  },
  {
   "cell_type": "code",
   "execution_count": 12,
   "id": "11c9037f-12d9-4f5d-88e8-ef204182ec0e",
   "metadata": {},
   "outputs": [],
   "source": [
    "# A Venn diagram is a visual representation of the relationship between sets of data. It consists of overlapping circles or other shapes, each representing a set, and the areas of overlap representing the intersection of those sets.\n",
    "\n",
    "# Venn diagrams are commonly used in mathematics, statistics, logic, and computer science to illustrate relationships between sets, to compare and contrast data, or to show the differences and similarities between two or more groups. They are especially useful in data analysis and visualization because they allow for a quick and easy understanding of the relationships between different sets of data.\n",
    "\n",
    "# For example, a Venn diagram could be used to show the relationship between different categories of fruits, with one circle representing apples, another representing oranges, and the overlap representing the fruits that are both apples and oranges. This type of diagram can be helpful in illustrating the commonalities and differences between different sets of data."
   ]
  },
  {
   "cell_type": "code",
   "execution_count": 15,
   "id": "452a0236-85a3-4250-9fb2-3598b7cc6dbb",
   "metadata": {},
   "outputs": [],
   "source": [
    "#Q7. For the two given sets A = (2, 3, 4, 5, 6, 7) & B = (0, 2, 6, 8, 10). Find:\n",
    "#(i) A B\n",
    "#(ii) A ⋃ B"
   ]
  },
  {
   "cell_type": "code",
   "execution_count": 16,
   "id": "49c651e2-f1f3-429f-a672-4865bbe1f1fb",
   "metadata": {},
   "outputs": [],
   "source": [
    "# Given sets are A = (2, 3, 4, 5, 6, 7) and B = (0, 2, 6, 8, 10).\n",
    "\n",
    "# (i) A B represents the intersection of sets A and B, which includes only the elements that are present in both sets. In this case, the elements that are common to both sets are 2 and 6. Therefore, A B = (2, 6).\n",
    "\n",
    "# (ii) A ⋃ B represents the union of sets A and B, which includes all the elements that are present in either set. In this case, the elements that are present in either set are:\n",
    "\n",
    "# A = (2, 3, 4, 5, 6, 7)\n",
    "\n",
    "# B = (0, 2, 6, 8, 10)\n",
    "\n",
    "# A ⋃ B = (0, 2, 3, 4, 5, 6, 7, 8, 10)"
   ]
  },
  {
   "cell_type": "code",
   "execution_count": 17,
   "id": "e0151956-56cc-403e-a4c1-d4036ec764c2",
   "metadata": {},
   "outputs": [],
   "source": [
    "#Q8. What do you understand about skewness in data?"
   ]
  },
  {
   "cell_type": "code",
   "execution_count": 18,
   "id": "b8ac32b3-c5e9-4834-a977-cbf654151f01",
   "metadata": {},
   "outputs": [],
   "source": [
    "# Skewness is a measure of the asymmetry of a probability distribution or dataset. In other words, it describes how lopsided the distribution is . A dataset or probability distribution is said to be skewed if it is not symmetric around its mean.\n",
    "\n",
    "# There are two types of skewness:\n",
    "\n",
    "# 1. Positive Skewness: A distribution is said to be positively skewed if it has a tail extending to the right side of the curve. This means that the majority of the data points lie on the left side of the curve, and there are some outliers on the right side that pull the mean towards the right.\n",
    "\n",
    "# 2. Negative Skewness: A distribution is said to be negatively skewed if it has a tail extending to the left side of the curve. This means that the majority of the data points lie on the right side of the curve, and there are some outliers on the left side that pull the mean towards the left.\n",
    "\n",
    "# Skewness is important in statistics because it affects the interpretation of many statistical analyses, such as mean, standard deviation, and correlation. In a skewed dataset, the mean may not accurately represent the central tendency of the data, and the standard deviation may not accurately represent the spread of the data. Therefore, it is important to understand the skewness of a dataset before performing any statistical analysis on it."
   ]
  },
  {
   "cell_type": "code",
   "execution_count": 19,
   "id": "aa4680bc-77d4-4e07-85b0-b957c61db439",
   "metadata": {},
   "outputs": [],
   "source": [
    "#Q9. If a data is right skewed then what will be the position of median with respect to mean?"
   ]
  },
  {
   "cell_type": "code",
   "execution_count": 20,
   "id": "91974517-ce85-43d3-a4cd-b432097f294b",
   "metadata": {},
   "outputs": [],
   "source": [
    "# If a dataset is right-skewed, it means that the tail of the distribution is longer on the right side, and there are some extreme values pulling the mean to the right. In such a case, the median will be less than the mean. This is because the median is not affected by the extreme values in the same way as the mean is. The median is the middle value of the dataset, and it is less sensitive to outliers compared to the mean. Therefore, in a right-skewed dataset, the median will be closer to the lower end of the dataset than the mean."
   ]
  },
  {
   "cell_type": "code",
   "execution_count": 21,
   "id": "265baac1-9e8d-455a-8408-b043061d4d6c",
   "metadata": {},
   "outputs": [],
   "source": [
    "#Q10. Explain the difference between covariance and correlation. How are these measures used in statistical analysis?"
   ]
  },
  {
   "cell_type": "code",
   "execution_count": 22,
   "id": "0159d3d5-b196-4730-b388-db94df7c185e",
   "metadata": {},
   "outputs": [],
   "source": [
    "# Covariance and correlation are both measures of the relationship between two variables, but they differ in their interpretation and scale.\n",
    "\n",
    "# Covariance measures the degree to which two variables vary together. It is a measure of the linear association between two variables. It is calculated as the average of the product of the deviations of each variable from their respective means. The formula for covariance between two variables X and Y is:\n",
    "\n",
    "# Cov(X, Y) = (1/n) * ∑(Xi - X̄) * (Yi - Ȳ)\n",
    "\n",
    "# where Xi and Yi are the ith values of the two variables, X̄ and Ȳ are their respective means, and n is the sample size.\n",
    "\n",
    "# The sign of the covariance indicates the direction of the relationship between the two variables. If the covariance is positive, it means that the two variables move in the same direction(i.e., when one variable increases, the other variable also tends to increase). If the covariance is negative, it means that the two variables move in opposite directions(i.e., when one variable increases, the other variable tends to decrease).\n",
    "\n",
    "# Correlation, on the other hand, measures the strength and direction of the linear relationship between two variables. Correlation is a standardized version of covariance that ranges from -1 to 1. The formula for correlation between two variables X and Y is:\n",
    "\n",
    "# r(X, Y) = Cov(X, Y) / (SD(X) * SD(Y))\n",
    "\n",
    "# where Cov(X, Y) is the covariance between the two variables, and SD(X) and SD(Y) are the standard deviations of the two variables.\n",
    "\n",
    "# The sign of the correlation also indicates the direction of the relationship, but the magnitude of the correlation indicates the strength of the relationship. If the correlation is close to 1, it means that there is a strong positive relationship between the two variables. If the correlation is close to - 1, it means that there is a strong negative relationship between the two variables. If the correlation is close to 0, it means that there is little or no relationship between the two variables.\n",
    "\n",
    "# Both covariance and correlation are used in statistical analysis to understand the relationship between two variables. However, correlation is preferred over covariance in many cases because it is standardized and allows for comparison between variables with different units of measurement. Correlation can also detect non-linear relationships between variables, whereas covariance can only detect linear relationships."
   ]
  },
  {
   "cell_type": "code",
   "execution_count": 23,
   "id": "c1c3d114-0848-46ce-9fb7-bb5768a6193f",
   "metadata": {},
   "outputs": [],
   "source": [
    "#Q11. What is the formula for calculating the sample mean? Provide an example calculation for a dataset."
   ]
  },
  {
   "cell_type": "code",
   "execution_count": 24,
   "id": "b6d6a820-f4c4-474c-a056-1406fb4cb480",
   "metadata": {},
   "outputs": [],
   "source": [
    "# The formula for calculating the sample mean is :\n",
    "\n",
    "# sample mean = (sum of all data points) / (number of data points)\n",
    "\n",
    "# For example, let's consider the following dataset:\n",
    "\n",
    "# 6, 9, 12, 15, 18\n",
    "\n",
    "# To calculate the sample mean, we add up all the data points and divide by the number of data points:\n",
    "\n",
    "# sample mean = (6 + 9 + 12 + 15 + 18) / 5 = 12\n",
    "\n",
    "# Therefore, the sample mean of this dataset is 12."
   ]
  },
  {
   "cell_type": "code",
   "execution_count": 25,
   "id": "9fdb5860-38d9-45a8-a272-91cf398ad04b",
   "metadata": {},
   "outputs": [],
   "source": [
    "#Q12. For a normal distribution data what is the relationship between its measure of central tendency?"
   ]
  },
  {
   "cell_type": "code",
   "execution_count": 26,
   "id": "d8c2451d-8dbb-4aa6-be86-f0aa04a49776",
   "metadata": {},
   "outputs": [],
   "source": [
    "# For a normal distribution data, the measure of central tendency are related as follows:\n",
    "\n",
    "# 1. The mean, median, and mode are all equal.\n",
    "\n",
    "# 2. The mean is located at the center of the distribution.\n",
    "\n",
    "# 3. The distribution is symmetric, meaning that the left and right halves of the distribution are mirror images of each other.\n",
    "\n",
    "# In summary, for a normal distribution, the mean, median, and mode are all the same, and they are located at the center of the distribution."
   ]
  },
  {
   "cell_type": "code",
   "execution_count": 27,
   "id": "125c3acb-6633-4843-a170-b1d513425f3d",
   "metadata": {},
   "outputs": [],
   "source": [
    "#Q13. How is covariance different from correlation?"
   ]
  },
  {
   "cell_type": "code",
   "execution_count": 28,
   "id": "b6ba9c59-14d3-4ff2-afad-b3afa2ad1e35",
   "metadata": {},
   "outputs": [],
   "source": [
    "# Covariance and correlation are two measures used in statistics to describe the relationship between two variables. While they are related, they have some key differences:\n",
    "\n",
    "# 1. Covariance measures the extent to which two variables are related to each other, whereas correlation measures the strength of the relationship between two variables.\n",
    "\n",
    "# 2. Covariance is affected by the scale of the variables, whereas correlation is not . This means that covariance can be difficult to interpret, especially when comparing variables with different scales.\n",
    "\n",
    "# 3. Correlation always takes on a value between - 1 and 1, where - 1 indicates a perfect negative correlation, 1 indicates a perfect positive correlation, and 0 indicates no correlation. Covariance, on the other hand, can take on any value.\n",
    "\n",
    "# 4. Correlation is a normalized measure, which means that it is standardized to eliminate the effects of scale. This makes correlation a more useful measure for comparing the strength of relationships between variables.\n",
    "\n",
    "# In summary, while covariance and correlation are related measures, they have some key differences in terms of their interpretation and usefulness."
   ]
  },
  {
   "cell_type": "code",
   "execution_count": 29,
   "id": "dc3bf6be-9dbc-4c50-8f7f-69fd89f98535",
   "metadata": {},
   "outputs": [],
   "source": [
    "#Q14. How do outliers affect measures of central tendency and dispersion? Provide an example."
   ]
  },
  {
   "cell_type": "code",
   "execution_count": 30,
   "id": "d9b37e17-df51-4229-9811-5d7a68a12c52",
   "metadata": {},
   "outputs": [],
   "source": [
    "# Outliers are values that lie far outside the range of the rest of the data in a dataset. Outliers can have a significant effect on measures of central tendency and dispersion, as they can pull these measures in one direction or another.\n",
    "\n",
    "# For measures of central tendency, outliers can significantly affect the mean, but have less of an impact on the median and mode. This is because the mean is sensitive to extreme values, whereas the median and mode are not .\n",
    "\n",
    "# Similarly, outliers can have a large effect on measures of dispersion, such as range, variance, and standard deviation. Outliers can increase the range of the data, which can increase the variance and standard deviation, leading to a skewed distribution.\n",
    "\n",
    "# For example, consider a dataset of salaries of employees in a company:\n",
    "\n",
    "# [20000, 25000, 30000, 35000, 40000, 45000, 50000, 55000, 60000, 100000]\n",
    "\n",
    "# The mean salary is 45000, while the median salary is 42500, and the mode is not applicable. Now, if we add an outlier salary of 500000 to the dataset, the mean salary increases significantly to 110000, while the median remains the same. This shows how outliers can significantly affect the mean, but have little effect on the median. Similarly, the range, variance, and standard deviation would increase significantly, indicating a skewed distribution."
   ]
  },
  {
   "cell_type": "code",
   "execution_count": null,
   "id": "92ac243b-c689-4098-a7e6-ca99ddd20572",
   "metadata": {},
   "outputs": [],
   "source": []
  }
 ],
 "metadata": {
  "kernelspec": {
   "display_name": "Python 3 (ipykernel)",
   "language": "python",
   "name": "python3"
  },
  "language_info": {
   "codemirror_mode": {
    "name": "ipython",
    "version": 3
   },
   "file_extension": ".py",
   "mimetype": "text/x-python",
   "name": "python",
   "nbconvert_exporter": "python",
   "pygments_lexer": "ipython3",
   "version": "3.10.8"
  }
 },
 "nbformat": 4,
 "nbformat_minor": 5
}
